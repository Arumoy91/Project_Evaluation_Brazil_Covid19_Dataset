{
 "cells": [
  {
   "cell_type": "code",
   "execution_count": 1,
   "metadata": {},
   "outputs": [],
   "source": [
    "import pandas as pd  # Importing the packages\n",
    "import numpy as np\n",
    "import matplotlib.pyplot as plt"
   ]
  },
  {
   "cell_type": "code",
   "execution_count": 2,
   "metadata": {},
   "outputs": [
    {
     "data": {
      "text/html": [
       "<div>\n",
       "<style scoped>\n",
       "    .dataframe tbody tr th:only-of-type {\n",
       "        vertical-align: middle;\n",
       "    }\n",
       "\n",
       "    .dataframe tbody tr th {\n",
       "        vertical-align: top;\n",
       "    }\n",
       "\n",
       "    .dataframe thead th {\n",
       "        text-align: right;\n",
       "    }\n",
       "</style>\n",
       "<table border=\"1\" class=\"dataframe\">\n",
       "  <thead>\n",
       "    <tr style=\"text-align: right;\">\n",
       "      <th></th>\n",
       "      <th>Patient ID</th>\n",
       "      <th>Patient age quantile</th>\n",
       "      <th>SARS-Cov-2 exam result</th>\n",
       "      <th>Patient addmited to regular ward (1=yes, 0=no)</th>\n",
       "      <th>Patient addmited to semi-intensive unit (1=yes, 0=no)</th>\n",
       "      <th>Patient addmited to intensive care unit (1=yes, 0=no)</th>\n",
       "      <th>Hematocrit</th>\n",
       "      <th>Hemoglobin</th>\n",
       "      <th>Platelets</th>\n",
       "      <th>Mean platelet volume</th>\n",
       "      <th>...</th>\n",
       "      <th>Hb saturation (arterial blood gases)</th>\n",
       "      <th>pCO2 (arterial blood gas analysis)</th>\n",
       "      <th>Base excess (arterial blood gas analysis)</th>\n",
       "      <th>pH (arterial blood gas analysis)</th>\n",
       "      <th>Total CO2 (arterial blood gas analysis)</th>\n",
       "      <th>HCO3 (arterial blood gas analysis)</th>\n",
       "      <th>pO2 (arterial blood gas analysis)</th>\n",
       "      <th>Arteiral Fio2</th>\n",
       "      <th>Phosphor</th>\n",
       "      <th>ctO2 (arterial blood gas analysis)</th>\n",
       "    </tr>\n",
       "  </thead>\n",
       "  <tbody>\n",
       "    <tr>\n",
       "      <th>0</th>\n",
       "      <td>44477f75e8169d2</td>\n",
       "      <td>13</td>\n",
       "      <td>negative</td>\n",
       "      <td>0</td>\n",
       "      <td>0</td>\n",
       "      <td>0</td>\n",
       "      <td>NaN</td>\n",
       "      <td>NaN</td>\n",
       "      <td>NaN</td>\n",
       "      <td>NaN</td>\n",
       "      <td>...</td>\n",
       "      <td>NaN</td>\n",
       "      <td>NaN</td>\n",
       "      <td>NaN</td>\n",
       "      <td>NaN</td>\n",
       "      <td>NaN</td>\n",
       "      <td>NaN</td>\n",
       "      <td>NaN</td>\n",
       "      <td>NaN</td>\n",
       "      <td>NaN</td>\n",
       "      <td>NaN</td>\n",
       "    </tr>\n",
       "    <tr>\n",
       "      <th>1</th>\n",
       "      <td>126e9dd13932f68</td>\n",
       "      <td>17</td>\n",
       "      <td>negative</td>\n",
       "      <td>0</td>\n",
       "      <td>0</td>\n",
       "      <td>0</td>\n",
       "      <td>0.236515</td>\n",
       "      <td>-0.022340</td>\n",
       "      <td>-0.517413</td>\n",
       "      <td>0.010677</td>\n",
       "      <td>...</td>\n",
       "      <td>NaN</td>\n",
       "      <td>NaN</td>\n",
       "      <td>NaN</td>\n",
       "      <td>NaN</td>\n",
       "      <td>NaN</td>\n",
       "      <td>NaN</td>\n",
       "      <td>NaN</td>\n",
       "      <td>NaN</td>\n",
       "      <td>NaN</td>\n",
       "      <td>NaN</td>\n",
       "    </tr>\n",
       "    <tr>\n",
       "      <th>2</th>\n",
       "      <td>a46b4402a0e5696</td>\n",
       "      <td>8</td>\n",
       "      <td>negative</td>\n",
       "      <td>0</td>\n",
       "      <td>0</td>\n",
       "      <td>0</td>\n",
       "      <td>NaN</td>\n",
       "      <td>NaN</td>\n",
       "      <td>NaN</td>\n",
       "      <td>NaN</td>\n",
       "      <td>...</td>\n",
       "      <td>NaN</td>\n",
       "      <td>NaN</td>\n",
       "      <td>NaN</td>\n",
       "      <td>NaN</td>\n",
       "      <td>NaN</td>\n",
       "      <td>NaN</td>\n",
       "      <td>NaN</td>\n",
       "      <td>NaN</td>\n",
       "      <td>NaN</td>\n",
       "      <td>NaN</td>\n",
       "    </tr>\n",
       "    <tr>\n",
       "      <th>3</th>\n",
       "      <td>f7d619a94f97c45</td>\n",
       "      <td>5</td>\n",
       "      <td>negative</td>\n",
       "      <td>0</td>\n",
       "      <td>0</td>\n",
       "      <td>0</td>\n",
       "      <td>NaN</td>\n",
       "      <td>NaN</td>\n",
       "      <td>NaN</td>\n",
       "      <td>NaN</td>\n",
       "      <td>...</td>\n",
       "      <td>NaN</td>\n",
       "      <td>NaN</td>\n",
       "      <td>NaN</td>\n",
       "      <td>NaN</td>\n",
       "      <td>NaN</td>\n",
       "      <td>NaN</td>\n",
       "      <td>NaN</td>\n",
       "      <td>NaN</td>\n",
       "      <td>NaN</td>\n",
       "      <td>NaN</td>\n",
       "    </tr>\n",
       "    <tr>\n",
       "      <th>4</th>\n",
       "      <td>d9e41465789c2b5</td>\n",
       "      <td>15</td>\n",
       "      <td>negative</td>\n",
       "      <td>0</td>\n",
       "      <td>0</td>\n",
       "      <td>0</td>\n",
       "      <td>NaN</td>\n",
       "      <td>NaN</td>\n",
       "      <td>NaN</td>\n",
       "      <td>NaN</td>\n",
       "      <td>...</td>\n",
       "      <td>NaN</td>\n",
       "      <td>NaN</td>\n",
       "      <td>NaN</td>\n",
       "      <td>NaN</td>\n",
       "      <td>NaN</td>\n",
       "      <td>NaN</td>\n",
       "      <td>NaN</td>\n",
       "      <td>NaN</td>\n",
       "      <td>NaN</td>\n",
       "      <td>NaN</td>\n",
       "    </tr>\n",
       "    <tr>\n",
       "      <th>...</th>\n",
       "      <td>...</td>\n",
       "      <td>...</td>\n",
       "      <td>...</td>\n",
       "      <td>...</td>\n",
       "      <td>...</td>\n",
       "      <td>...</td>\n",
       "      <td>...</td>\n",
       "      <td>...</td>\n",
       "      <td>...</td>\n",
       "      <td>...</td>\n",
       "      <td>...</td>\n",
       "      <td>...</td>\n",
       "      <td>...</td>\n",
       "      <td>...</td>\n",
       "      <td>...</td>\n",
       "      <td>...</td>\n",
       "      <td>...</td>\n",
       "      <td>...</td>\n",
       "      <td>...</td>\n",
       "      <td>...</td>\n",
       "      <td>...</td>\n",
       "    </tr>\n",
       "    <tr>\n",
       "      <th>5639</th>\n",
       "      <td>ae66feb9e4dc3a0</td>\n",
       "      <td>3</td>\n",
       "      <td>positive</td>\n",
       "      <td>0</td>\n",
       "      <td>0</td>\n",
       "      <td>0</td>\n",
       "      <td>NaN</td>\n",
       "      <td>NaN</td>\n",
       "      <td>NaN</td>\n",
       "      <td>NaN</td>\n",
       "      <td>...</td>\n",
       "      <td>NaN</td>\n",
       "      <td>NaN</td>\n",
       "      <td>NaN</td>\n",
       "      <td>NaN</td>\n",
       "      <td>NaN</td>\n",
       "      <td>NaN</td>\n",
       "      <td>NaN</td>\n",
       "      <td>NaN</td>\n",
       "      <td>NaN</td>\n",
       "      <td>NaN</td>\n",
       "    </tr>\n",
       "    <tr>\n",
       "      <th>5640</th>\n",
       "      <td>517c2834024f3ea</td>\n",
       "      <td>17</td>\n",
       "      <td>negative</td>\n",
       "      <td>0</td>\n",
       "      <td>0</td>\n",
       "      <td>0</td>\n",
       "      <td>NaN</td>\n",
       "      <td>NaN</td>\n",
       "      <td>NaN</td>\n",
       "      <td>NaN</td>\n",
       "      <td>...</td>\n",
       "      <td>NaN</td>\n",
       "      <td>NaN</td>\n",
       "      <td>NaN</td>\n",
       "      <td>NaN</td>\n",
       "      <td>NaN</td>\n",
       "      <td>NaN</td>\n",
       "      <td>NaN</td>\n",
       "      <td>NaN</td>\n",
       "      <td>NaN</td>\n",
       "      <td>NaN</td>\n",
       "    </tr>\n",
       "    <tr>\n",
       "      <th>5641</th>\n",
       "      <td>5c57d6037fe266d</td>\n",
       "      <td>4</td>\n",
       "      <td>negative</td>\n",
       "      <td>0</td>\n",
       "      <td>0</td>\n",
       "      <td>0</td>\n",
       "      <td>NaN</td>\n",
       "      <td>NaN</td>\n",
       "      <td>NaN</td>\n",
       "      <td>NaN</td>\n",
       "      <td>...</td>\n",
       "      <td>NaN</td>\n",
       "      <td>NaN</td>\n",
       "      <td>NaN</td>\n",
       "      <td>NaN</td>\n",
       "      <td>NaN</td>\n",
       "      <td>NaN</td>\n",
       "      <td>NaN</td>\n",
       "      <td>NaN</td>\n",
       "      <td>NaN</td>\n",
       "      <td>NaN</td>\n",
       "    </tr>\n",
       "    <tr>\n",
       "      <th>5642</th>\n",
       "      <td>c20c44766f28291</td>\n",
       "      <td>10</td>\n",
       "      <td>negative</td>\n",
       "      <td>0</td>\n",
       "      <td>0</td>\n",
       "      <td>0</td>\n",
       "      <td>NaN</td>\n",
       "      <td>NaN</td>\n",
       "      <td>NaN</td>\n",
       "      <td>NaN</td>\n",
       "      <td>...</td>\n",
       "      <td>NaN</td>\n",
       "      <td>NaN</td>\n",
       "      <td>NaN</td>\n",
       "      <td>NaN</td>\n",
       "      <td>NaN</td>\n",
       "      <td>NaN</td>\n",
       "      <td>NaN</td>\n",
       "      <td>NaN</td>\n",
       "      <td>NaN</td>\n",
       "      <td>NaN</td>\n",
       "    </tr>\n",
       "    <tr>\n",
       "      <th>5643</th>\n",
       "      <td>2697fdccbfeb7f7</td>\n",
       "      <td>19</td>\n",
       "      <td>positive</td>\n",
       "      <td>0</td>\n",
       "      <td>0</td>\n",
       "      <td>0</td>\n",
       "      <td>0.694287</td>\n",
       "      <td>0.541564</td>\n",
       "      <td>-0.906829</td>\n",
       "      <td>-0.325903</td>\n",
       "      <td>...</td>\n",
       "      <td>NaN</td>\n",
       "      <td>NaN</td>\n",
       "      <td>NaN</td>\n",
       "      <td>NaN</td>\n",
       "      <td>NaN</td>\n",
       "      <td>NaN</td>\n",
       "      <td>NaN</td>\n",
       "      <td>NaN</td>\n",
       "      <td>NaN</td>\n",
       "      <td>NaN</td>\n",
       "    </tr>\n",
       "  </tbody>\n",
       "</table>\n",
       "<p>5644 rows × 111 columns</p>\n",
       "</div>"
      ],
      "text/plain": [
       "           Patient ID  Patient age quantile SARS-Cov-2 exam result  \\\n",
       "0     44477f75e8169d2                    13               negative   \n",
       "1     126e9dd13932f68                    17               negative   \n",
       "2     a46b4402a0e5696                     8               negative   \n",
       "3     f7d619a94f97c45                     5               negative   \n",
       "4     d9e41465789c2b5                    15               negative   \n",
       "...               ...                   ...                    ...   \n",
       "5639  ae66feb9e4dc3a0                     3               positive   \n",
       "5640  517c2834024f3ea                    17               negative   \n",
       "5641  5c57d6037fe266d                     4               negative   \n",
       "5642  c20c44766f28291                    10               negative   \n",
       "5643  2697fdccbfeb7f7                    19               positive   \n",
       "\n",
       "      Patient addmited to regular ward (1=yes, 0=no)  \\\n",
       "0                                                  0   \n",
       "1                                                  0   \n",
       "2                                                  0   \n",
       "3                                                  0   \n",
       "4                                                  0   \n",
       "...                                              ...   \n",
       "5639                                               0   \n",
       "5640                                               0   \n",
       "5641                                               0   \n",
       "5642                                               0   \n",
       "5643                                               0   \n",
       "\n",
       "      Patient addmited to semi-intensive unit (1=yes, 0=no)  \\\n",
       "0                                                     0       \n",
       "1                                                     0       \n",
       "2                                                     0       \n",
       "3                                                     0       \n",
       "4                                                     0       \n",
       "...                                                 ...       \n",
       "5639                                                  0       \n",
       "5640                                                  0       \n",
       "5641                                                  0       \n",
       "5642                                                  0       \n",
       "5643                                                  0       \n",
       "\n",
       "      Patient addmited to intensive care unit (1=yes, 0=no)  Hematocrit  \\\n",
       "0                                                     0             NaN   \n",
       "1                                                     0        0.236515   \n",
       "2                                                     0             NaN   \n",
       "3                                                     0             NaN   \n",
       "4                                                     0             NaN   \n",
       "...                                                 ...             ...   \n",
       "5639                                                  0             NaN   \n",
       "5640                                                  0             NaN   \n",
       "5641                                                  0             NaN   \n",
       "5642                                                  0             NaN   \n",
       "5643                                                  0        0.694287   \n",
       "\n",
       "      Hemoglobin  Platelets  Mean platelet volume   ...  \\\n",
       "0            NaN        NaN                    NaN  ...   \n",
       "1      -0.022340  -0.517413               0.010677  ...   \n",
       "2            NaN        NaN                    NaN  ...   \n",
       "3            NaN        NaN                    NaN  ...   \n",
       "4            NaN        NaN                    NaN  ...   \n",
       "...          ...        ...                    ...  ...   \n",
       "5639         NaN        NaN                    NaN  ...   \n",
       "5640         NaN        NaN                    NaN  ...   \n",
       "5641         NaN        NaN                    NaN  ...   \n",
       "5642         NaN        NaN                    NaN  ...   \n",
       "5643    0.541564  -0.906829              -0.325903  ...   \n",
       "\n",
       "      Hb saturation (arterial blood gases)  \\\n",
       "0                                      NaN   \n",
       "1                                      NaN   \n",
       "2                                      NaN   \n",
       "3                                      NaN   \n",
       "4                                      NaN   \n",
       "...                                    ...   \n",
       "5639                                   NaN   \n",
       "5640                                   NaN   \n",
       "5641                                   NaN   \n",
       "5642                                   NaN   \n",
       "5643                                   NaN   \n",
       "\n",
       "      pCO2 (arterial blood gas analysis)  \\\n",
       "0                                    NaN   \n",
       "1                                    NaN   \n",
       "2                                    NaN   \n",
       "3                                    NaN   \n",
       "4                                    NaN   \n",
       "...                                  ...   \n",
       "5639                                 NaN   \n",
       "5640                                 NaN   \n",
       "5641                                 NaN   \n",
       "5642                                 NaN   \n",
       "5643                                 NaN   \n",
       "\n",
       "      Base excess (arterial blood gas analysis)  \\\n",
       "0                                           NaN   \n",
       "1                                           NaN   \n",
       "2                                           NaN   \n",
       "3                                           NaN   \n",
       "4                                           NaN   \n",
       "...                                         ...   \n",
       "5639                                        NaN   \n",
       "5640                                        NaN   \n",
       "5641                                        NaN   \n",
       "5642                                        NaN   \n",
       "5643                                        NaN   \n",
       "\n",
       "      pH (arterial blood gas analysis)  \\\n",
       "0                                  NaN   \n",
       "1                                  NaN   \n",
       "2                                  NaN   \n",
       "3                                  NaN   \n",
       "4                                  NaN   \n",
       "...                                ...   \n",
       "5639                               NaN   \n",
       "5640                               NaN   \n",
       "5641                               NaN   \n",
       "5642                               NaN   \n",
       "5643                               NaN   \n",
       "\n",
       "      Total CO2 (arterial blood gas analysis)  \\\n",
       "0                                         NaN   \n",
       "1                                         NaN   \n",
       "2                                         NaN   \n",
       "3                                         NaN   \n",
       "4                                         NaN   \n",
       "...                                       ...   \n",
       "5639                                      NaN   \n",
       "5640                                      NaN   \n",
       "5641                                      NaN   \n",
       "5642                                      NaN   \n",
       "5643                                      NaN   \n",
       "\n",
       "      HCO3 (arterial blood gas analysis)  pO2 (arterial blood gas analysis)  \\\n",
       "0                                    NaN                                NaN   \n",
       "1                                    NaN                                NaN   \n",
       "2                                    NaN                                NaN   \n",
       "3                                    NaN                                NaN   \n",
       "4                                    NaN                                NaN   \n",
       "...                                  ...                                ...   \n",
       "5639                                 NaN                                NaN   \n",
       "5640                                 NaN                                NaN   \n",
       "5641                                 NaN                                NaN   \n",
       "5642                                 NaN                                NaN   \n",
       "5643                                 NaN                                NaN   \n",
       "\n",
       "      Arteiral Fio2  Phosphor  ctO2 (arterial blood gas analysis)  \n",
       "0               NaN       NaN                                 NaN  \n",
       "1               NaN       NaN                                 NaN  \n",
       "2               NaN       NaN                                 NaN  \n",
       "3               NaN       NaN                                 NaN  \n",
       "4               NaN       NaN                                 NaN  \n",
       "...             ...       ...                                 ...  \n",
       "5639            NaN       NaN                                 NaN  \n",
       "5640            NaN       NaN                                 NaN  \n",
       "5641            NaN       NaN                                 NaN  \n",
       "5642            NaN       NaN                                 NaN  \n",
       "5643            NaN       NaN                                 NaN  \n",
       "\n",
       "[5644 rows x 111 columns]"
      ]
     },
     "execution_count": 2,
     "metadata": {},
     "output_type": "execute_result"
    }
   ],
   "source": [
    "df=pd.read_csv('brazil_covid19.csv')  # Reading the data files\n",
    "df"
   ]
  },
  {
   "cell_type": "code",
   "execution_count": 3,
   "metadata": {},
   "outputs": [
    {
     "data": {
      "text/html": [
       "<div>\n",
       "<style scoped>\n",
       "    .dataframe tbody tr th:only-of-type {\n",
       "        vertical-align: middle;\n",
       "    }\n",
       "\n",
       "    .dataframe tbody tr th {\n",
       "        vertical-align: top;\n",
       "    }\n",
       "\n",
       "    .dataframe thead th {\n",
       "        text-align: right;\n",
       "    }\n",
       "</style>\n",
       "<table border=\"1\" class=\"dataframe\">\n",
       "  <thead>\n",
       "    <tr style=\"text-align: right;\">\n",
       "      <th></th>\n",
       "      <th>Patient ID</th>\n",
       "      <th>Patient age quantile</th>\n",
       "      <th>SARS-Cov-2 exam result</th>\n",
       "      <th>Patient addmited to regular ward (1=yes, 0=no)</th>\n",
       "      <th>Patient addmited to semi-intensive unit (1=yes, 0=no)</th>\n",
       "      <th>Patient addmited to intensive care unit (1=yes, 0=no)</th>\n",
       "      <th>Hematocrit</th>\n",
       "      <th>Hemoglobin</th>\n",
       "      <th>Platelets</th>\n",
       "      <th>Mean platelet volume</th>\n",
       "      <th>...</th>\n",
       "      <th>Hb saturation (arterial blood gases)</th>\n",
       "      <th>pCO2 (arterial blood gas analysis)</th>\n",
       "      <th>Base excess (arterial blood gas analysis)</th>\n",
       "      <th>pH (arterial blood gas analysis)</th>\n",
       "      <th>Total CO2 (arterial blood gas analysis)</th>\n",
       "      <th>HCO3 (arterial blood gas analysis)</th>\n",
       "      <th>pO2 (arterial blood gas analysis)</th>\n",
       "      <th>Arteiral Fio2</th>\n",
       "      <th>Phosphor</th>\n",
       "      <th>ctO2 (arterial blood gas analysis)</th>\n",
       "    </tr>\n",
       "  </thead>\n",
       "  <tbody>\n",
       "    <tr>\n",
       "      <th>0</th>\n",
       "      <td>44477f75e8169d2</td>\n",
       "      <td>13</td>\n",
       "      <td>negative</td>\n",
       "      <td>0</td>\n",
       "      <td>0</td>\n",
       "      <td>0</td>\n",
       "      <td>NaN</td>\n",
       "      <td>NaN</td>\n",
       "      <td>NaN</td>\n",
       "      <td>NaN</td>\n",
       "      <td>...</td>\n",
       "      <td>NaN</td>\n",
       "      <td>NaN</td>\n",
       "      <td>NaN</td>\n",
       "      <td>NaN</td>\n",
       "      <td>NaN</td>\n",
       "      <td>NaN</td>\n",
       "      <td>NaN</td>\n",
       "      <td>NaN</td>\n",
       "      <td>NaN</td>\n",
       "      <td>NaN</td>\n",
       "    </tr>\n",
       "    <tr>\n",
       "      <th>1</th>\n",
       "      <td>126e9dd13932f68</td>\n",
       "      <td>17</td>\n",
       "      <td>negative</td>\n",
       "      <td>0</td>\n",
       "      <td>0</td>\n",
       "      <td>0</td>\n",
       "      <td>0.236515</td>\n",
       "      <td>-0.02234</td>\n",
       "      <td>-0.517413</td>\n",
       "      <td>0.010677</td>\n",
       "      <td>...</td>\n",
       "      <td>NaN</td>\n",
       "      <td>NaN</td>\n",
       "      <td>NaN</td>\n",
       "      <td>NaN</td>\n",
       "      <td>NaN</td>\n",
       "      <td>NaN</td>\n",
       "      <td>NaN</td>\n",
       "      <td>NaN</td>\n",
       "      <td>NaN</td>\n",
       "      <td>NaN</td>\n",
       "    </tr>\n",
       "    <tr>\n",
       "      <th>2</th>\n",
       "      <td>a46b4402a0e5696</td>\n",
       "      <td>8</td>\n",
       "      <td>negative</td>\n",
       "      <td>0</td>\n",
       "      <td>0</td>\n",
       "      <td>0</td>\n",
       "      <td>NaN</td>\n",
       "      <td>NaN</td>\n",
       "      <td>NaN</td>\n",
       "      <td>NaN</td>\n",
       "      <td>...</td>\n",
       "      <td>NaN</td>\n",
       "      <td>NaN</td>\n",
       "      <td>NaN</td>\n",
       "      <td>NaN</td>\n",
       "      <td>NaN</td>\n",
       "      <td>NaN</td>\n",
       "      <td>NaN</td>\n",
       "      <td>NaN</td>\n",
       "      <td>NaN</td>\n",
       "      <td>NaN</td>\n",
       "    </tr>\n",
       "    <tr>\n",
       "      <th>3</th>\n",
       "      <td>f7d619a94f97c45</td>\n",
       "      <td>5</td>\n",
       "      <td>negative</td>\n",
       "      <td>0</td>\n",
       "      <td>0</td>\n",
       "      <td>0</td>\n",
       "      <td>NaN</td>\n",
       "      <td>NaN</td>\n",
       "      <td>NaN</td>\n",
       "      <td>NaN</td>\n",
       "      <td>...</td>\n",
       "      <td>NaN</td>\n",
       "      <td>NaN</td>\n",
       "      <td>NaN</td>\n",
       "      <td>NaN</td>\n",
       "      <td>NaN</td>\n",
       "      <td>NaN</td>\n",
       "      <td>NaN</td>\n",
       "      <td>NaN</td>\n",
       "      <td>NaN</td>\n",
       "      <td>NaN</td>\n",
       "    </tr>\n",
       "    <tr>\n",
       "      <th>4</th>\n",
       "      <td>d9e41465789c2b5</td>\n",
       "      <td>15</td>\n",
       "      <td>negative</td>\n",
       "      <td>0</td>\n",
       "      <td>0</td>\n",
       "      <td>0</td>\n",
       "      <td>NaN</td>\n",
       "      <td>NaN</td>\n",
       "      <td>NaN</td>\n",
       "      <td>NaN</td>\n",
       "      <td>...</td>\n",
       "      <td>NaN</td>\n",
       "      <td>NaN</td>\n",
       "      <td>NaN</td>\n",
       "      <td>NaN</td>\n",
       "      <td>NaN</td>\n",
       "      <td>NaN</td>\n",
       "      <td>NaN</td>\n",
       "      <td>NaN</td>\n",
       "      <td>NaN</td>\n",
       "      <td>NaN</td>\n",
       "    </tr>\n",
       "  </tbody>\n",
       "</table>\n",
       "<p>5 rows × 111 columns</p>\n",
       "</div>"
      ],
      "text/plain": [
       "        Patient ID  Patient age quantile SARS-Cov-2 exam result  \\\n",
       "0  44477f75e8169d2                    13               negative   \n",
       "1  126e9dd13932f68                    17               negative   \n",
       "2  a46b4402a0e5696                     8               negative   \n",
       "3  f7d619a94f97c45                     5               negative   \n",
       "4  d9e41465789c2b5                    15               negative   \n",
       "\n",
       "   Patient addmited to regular ward (1=yes, 0=no)  \\\n",
       "0                                               0   \n",
       "1                                               0   \n",
       "2                                               0   \n",
       "3                                               0   \n",
       "4                                               0   \n",
       "\n",
       "   Patient addmited to semi-intensive unit (1=yes, 0=no)  \\\n",
       "0                                                  0       \n",
       "1                                                  0       \n",
       "2                                                  0       \n",
       "3                                                  0       \n",
       "4                                                  0       \n",
       "\n",
       "   Patient addmited to intensive care unit (1=yes, 0=no)  Hematocrit  \\\n",
       "0                                                  0             NaN   \n",
       "1                                                  0        0.236515   \n",
       "2                                                  0             NaN   \n",
       "3                                                  0             NaN   \n",
       "4                                                  0             NaN   \n",
       "\n",
       "   Hemoglobin  Platelets  Mean platelet volume   ...  \\\n",
       "0         NaN        NaN                    NaN  ...   \n",
       "1    -0.02234  -0.517413               0.010677  ...   \n",
       "2         NaN        NaN                    NaN  ...   \n",
       "3         NaN        NaN                    NaN  ...   \n",
       "4         NaN        NaN                    NaN  ...   \n",
       "\n",
       "   Hb saturation (arterial blood gases)  pCO2 (arterial blood gas analysis)  \\\n",
       "0                                   NaN                                 NaN   \n",
       "1                                   NaN                                 NaN   \n",
       "2                                   NaN                                 NaN   \n",
       "3                                   NaN                                 NaN   \n",
       "4                                   NaN                                 NaN   \n",
       "\n",
       "   Base excess (arterial blood gas analysis)  \\\n",
       "0                                        NaN   \n",
       "1                                        NaN   \n",
       "2                                        NaN   \n",
       "3                                        NaN   \n",
       "4                                        NaN   \n",
       "\n",
       "   pH (arterial blood gas analysis)  Total CO2 (arterial blood gas analysis)  \\\n",
       "0                               NaN                                      NaN   \n",
       "1                               NaN                                      NaN   \n",
       "2                               NaN                                      NaN   \n",
       "3                               NaN                                      NaN   \n",
       "4                               NaN                                      NaN   \n",
       "\n",
       "   HCO3 (arterial blood gas analysis)  pO2 (arterial blood gas analysis)  \\\n",
       "0                                 NaN                                NaN   \n",
       "1                                 NaN                                NaN   \n",
       "2                                 NaN                                NaN   \n",
       "3                                 NaN                                NaN   \n",
       "4                                 NaN                                NaN   \n",
       "\n",
       "   Arteiral Fio2  Phosphor  ctO2 (arterial blood gas analysis)  \n",
       "0            NaN       NaN                                 NaN  \n",
       "1            NaN       NaN                                 NaN  \n",
       "2            NaN       NaN                                 NaN  \n",
       "3            NaN       NaN                                 NaN  \n",
       "4            NaN       NaN                                 NaN  \n",
       "\n",
       "[5 rows x 111 columns]"
      ]
     },
     "execution_count": 3,
     "metadata": {},
     "output_type": "execute_result"
    }
   ],
   "source": [
    "df.head()"
   ]
  },
  {
   "cell_type": "code",
   "execution_count": 4,
   "metadata": {},
   "outputs": [
    {
     "name": "stdout",
     "output_type": "stream",
     "text": [
      "<class 'pandas.core.frame.DataFrame'>\n",
      "RangeIndex: 5644 entries, 0 to 5643\n",
      "Columns: 111 entries, Patient ID to ctO2 (arterial blood gas analysis)\n",
      "dtypes: float64(70), int64(4), object(37)\n",
      "memory usage: 4.8+ MB\n"
     ]
    }
   ],
   "source": [
    "df.info()"
   ]
  },
  {
   "cell_type": "code",
   "execution_count": 5,
   "metadata": {},
   "outputs": [
    {
     "data": {
      "text/plain": [
       "(5644, 111)"
      ]
     },
     "execution_count": 5,
     "metadata": {},
     "output_type": "execute_result"
    }
   ],
   "source": [
    "df.shape # Finding out the shape of the dataset"
   ]
  },
  {
   "cell_type": "code",
   "execution_count": 6,
   "metadata": {},
   "outputs": [
    {
     "data": {
      "text/plain": [
       "Index(['Patient ID', 'Patient age quantile', 'SARS-Cov-2 exam result',\n",
       "       'Patient addmited to regular ward (1=yes, 0=no)',\n",
       "       'Patient addmited to semi-intensive unit (1=yes, 0=no)',\n",
       "       'Patient addmited to intensive care unit (1=yes, 0=no)', 'Hematocrit',\n",
       "       'Hemoglobin', 'Platelets', 'Mean platelet volume ',\n",
       "       ...\n",
       "       'Hb saturation (arterial blood gases)',\n",
       "       'pCO2 (arterial blood gas analysis)',\n",
       "       'Base excess (arterial blood gas analysis)',\n",
       "       'pH (arterial blood gas analysis)',\n",
       "       'Total CO2 (arterial blood gas analysis)',\n",
       "       'HCO3 (arterial blood gas analysis)',\n",
       "       'pO2 (arterial blood gas analysis)', 'Arteiral Fio2', 'Phosphor',\n",
       "       'ctO2 (arterial blood gas analysis)'],\n",
       "      dtype='object', length=111)"
      ]
     },
     "execution_count": 6,
     "metadata": {},
     "output_type": "execute_result"
    }
   ],
   "source": [
    "df.columns  # Finding the name of the dataset of the columns"
   ]
  },
  {
   "cell_type": "code",
   "execution_count": 7,
   "metadata": {},
   "outputs": [
    {
     "data": {
      "text/html": [
       "<div>\n",
       "<style scoped>\n",
       "    .dataframe tbody tr th:only-of-type {\n",
       "        vertical-align: middle;\n",
       "    }\n",
       "\n",
       "    .dataframe tbody tr th {\n",
       "        vertical-align: top;\n",
       "    }\n",
       "\n",
       "    .dataframe thead th {\n",
       "        text-align: right;\n",
       "    }\n",
       "</style>\n",
       "<table border=\"1\" class=\"dataframe\">\n",
       "  <thead>\n",
       "    <tr style=\"text-align: right;\">\n",
       "      <th></th>\n",
       "      <th>Patient age quantile</th>\n",
       "      <th>Patient addmited to regular ward (1=yes, 0=no)</th>\n",
       "      <th>Patient addmited to semi-intensive unit (1=yes, 0=no)</th>\n",
       "      <th>Patient addmited to intensive care unit (1=yes, 0=no)</th>\n",
       "      <th>Hematocrit</th>\n",
       "      <th>Hemoglobin</th>\n",
       "      <th>Platelets</th>\n",
       "      <th>Mean platelet volume</th>\n",
       "      <th>Red blood Cells</th>\n",
       "      <th>Lymphocytes</th>\n",
       "      <th>...</th>\n",
       "      <th>Hb saturation (arterial blood gases)</th>\n",
       "      <th>pCO2 (arterial blood gas analysis)</th>\n",
       "      <th>Base excess (arterial blood gas analysis)</th>\n",
       "      <th>pH (arterial blood gas analysis)</th>\n",
       "      <th>Total CO2 (arterial blood gas analysis)</th>\n",
       "      <th>HCO3 (arterial blood gas analysis)</th>\n",
       "      <th>pO2 (arterial blood gas analysis)</th>\n",
       "      <th>Arteiral Fio2</th>\n",
       "      <th>Phosphor</th>\n",
       "      <th>ctO2 (arterial blood gas analysis)</th>\n",
       "    </tr>\n",
       "  </thead>\n",
       "  <tbody>\n",
       "    <tr>\n",
       "      <th>count</th>\n",
       "      <td>5644.000000</td>\n",
       "      <td>5644.000000</td>\n",
       "      <td>5644.000000</td>\n",
       "      <td>5644.000000</td>\n",
       "      <td>6.030000e+02</td>\n",
       "      <td>6.030000e+02</td>\n",
       "      <td>6.020000e+02</td>\n",
       "      <td>5.990000e+02</td>\n",
       "      <td>6.020000e+02</td>\n",
       "      <td>6.020000e+02</td>\n",
       "      <td>...</td>\n",
       "      <td>2.700000e+01</td>\n",
       "      <td>2.700000e+01</td>\n",
       "      <td>2.700000e+01</td>\n",
       "      <td>2.700000e+01</td>\n",
       "      <td>2.700000e+01</td>\n",
       "      <td>2.700000e+01</td>\n",
       "      <td>2.700000e+01</td>\n",
       "      <td>2.000000e+01</td>\n",
       "      <td>2.000000e+01</td>\n",
       "      <td>2.700000e+01</td>\n",
       "    </tr>\n",
       "    <tr>\n",
       "      <th>mean</th>\n",
       "      <td>9.318391</td>\n",
       "      <td>0.013997</td>\n",
       "      <td>0.008859</td>\n",
       "      <td>0.007264</td>\n",
       "      <td>-2.187396e-09</td>\n",
       "      <td>-1.598342e-08</td>\n",
       "      <td>-3.820598e-10</td>\n",
       "      <td>7.373957e-09</td>\n",
       "      <td>8.416943e-09</td>\n",
       "      <td>-7.863787e-09</td>\n",
       "      <td>...</td>\n",
       "      <td>-1.851852e-10</td>\n",
       "      <td>8.370370e-09</td>\n",
       "      <td>-1.703704e-09</td>\n",
       "      <td>3.333333e-10</td>\n",
       "      <td>-7.444444e-09</td>\n",
       "      <td>6.000000e-09</td>\n",
       "      <td>-2.481481e-08</td>\n",
       "      <td>4.650000e-09</td>\n",
       "      <td>6.250000e-09</td>\n",
       "      <td>5.185185e-09</td>\n",
       "    </tr>\n",
       "    <tr>\n",
       "      <th>std</th>\n",
       "      <td>5.777903</td>\n",
       "      <td>0.117489</td>\n",
       "      <td>0.093713</td>\n",
       "      <td>0.084929</td>\n",
       "      <td>1.000830e+00</td>\n",
       "      <td>1.000830e+00</td>\n",
       "      <td>1.000832e+00</td>\n",
       "      <td>1.000836e+00</td>\n",
       "      <td>1.000832e+00</td>\n",
       "      <td>1.000832e+00</td>\n",
       "      <td>...</td>\n",
       "      <td>1.019049e+00</td>\n",
       "      <td>1.019049e+00</td>\n",
       "      <td>1.019049e+00</td>\n",
       "      <td>1.019049e+00</td>\n",
       "      <td>1.019049e+00</td>\n",
       "      <td>1.019049e+00</td>\n",
       "      <td>1.019049e+00</td>\n",
       "      <td>1.025978e+00</td>\n",
       "      <td>1.025978e+00</td>\n",
       "      <td>1.019049e+00</td>\n",
       "    </tr>\n",
       "    <tr>\n",
       "      <th>min</th>\n",
       "      <td>0.000000</td>\n",
       "      <td>0.000000</td>\n",
       "      <td>0.000000</td>\n",
       "      <td>0.000000</td>\n",
       "      <td>-4.501420e+00</td>\n",
       "      <td>-4.345603e+00</td>\n",
       "      <td>-2.552426e+00</td>\n",
       "      <td>-2.457575e+00</td>\n",
       "      <td>-3.970608e+00</td>\n",
       "      <td>-1.865070e+00</td>\n",
       "      <td>...</td>\n",
       "      <td>-1.999560e+00</td>\n",
       "      <td>-1.244817e+00</td>\n",
       "      <td>-3.082674e+00</td>\n",
       "      <td>-3.568877e+00</td>\n",
       "      <td>-2.925618e+00</td>\n",
       "      <td>-2.985592e+00</td>\n",
       "      <td>-1.175907e+00</td>\n",
       "      <td>-1.532932e+00</td>\n",
       "      <td>-1.480526e+00</td>\n",
       "      <td>-2.900254e+00</td>\n",
       "    </tr>\n",
       "    <tr>\n",
       "      <th>25%</th>\n",
       "      <td>4.000000</td>\n",
       "      <td>0.000000</td>\n",
       "      <td>0.000000</td>\n",
       "      <td>0.000000</td>\n",
       "      <td>-5.188074e-01</td>\n",
       "      <td>-5.862439e-01</td>\n",
       "      <td>-6.053457e-01</td>\n",
       "      <td>-6.624832e-01</td>\n",
       "      <td>-5.679496e-01</td>\n",
       "      <td>-7.307069e-01</td>\n",
       "      <td>...</td>\n",
       "      <td>-1.122574e+00</td>\n",
       "      <td>-5.348102e-01</td>\n",
       "      <td>-3.308668e-01</td>\n",
       "      <td>-9.210583e-02</td>\n",
       "      <td>-5.117720e-01</td>\n",
       "      <td>-5.397211e-01</td>\n",
       "      <td>-8.169898e-01</td>\n",
       "      <td>-1.214975e-01</td>\n",
       "      <td>-5.527296e-01</td>\n",
       "      <td>-4.852787e-01</td>\n",
       "    </tr>\n",
       "    <tr>\n",
       "      <th>50%</th>\n",
       "      <td>9.000000</td>\n",
       "      <td>0.000000</td>\n",
       "      <td>0.000000</td>\n",
       "      <td>0.000000</td>\n",
       "      <td>5.340703e-02</td>\n",
       "      <td>4.031596e-02</td>\n",
       "      <td>-1.217160e-01</td>\n",
       "      <td>-1.015171e-01</td>\n",
       "      <td>1.385207e-02</td>\n",
       "      <td>-1.426696e-02</td>\n",
       "      <td>...</td>\n",
       "      <td>2.677689e-01</td>\n",
       "      <td>-2.120799e-01</td>\n",
       "      <td>-1.181667e-02</td>\n",
       "      <td>2.942021e-01</td>\n",
       "      <td>7.743482e-02</td>\n",
       "      <td>5.633191e-02</td>\n",
       "      <td>-1.599549e-01</td>\n",
       "      <td>-1.174366e-02</td>\n",
       "      <td>-1.381825e-01</td>\n",
       "      <td>1.826928e-01</td>\n",
       "    </tr>\n",
       "    <tr>\n",
       "      <th>75%</th>\n",
       "      <td>14.000000</td>\n",
       "      <td>0.000000</td>\n",
       "      <td>0.000000</td>\n",
       "      <td>0.000000</td>\n",
       "      <td>7.171751e-01</td>\n",
       "      <td>7.295320e-01</td>\n",
       "      <td>5.314981e-01</td>\n",
       "      <td>6.838353e-01</td>\n",
       "      <td>6.661759e-01</td>\n",
       "      <td>5.976919e-01</td>\n",
       "      <td>...</td>\n",
       "      <td>7.383496e-01</td>\n",
       "      <td>2.305214e-02</td>\n",
       "      <td>6.661649e-01</td>\n",
       "      <td>5.115003e-01</td>\n",
       "      <td>4.385609e-01</td>\n",
       "      <td>5.085100e-01</td>\n",
       "      <td>4.500090e-01</td>\n",
       "      <td>-1.174366e-02</td>\n",
       "      <td>2.763648e-01</td>\n",
       "      <td>5.937525e-01</td>\n",
       "    </tr>\n",
       "    <tr>\n",
       "      <th>max</th>\n",
       "      <td>19.000000</td>\n",
       "      <td>1.000000</td>\n",
       "      <td>1.000000</td>\n",
       "      <td>1.000000</td>\n",
       "      <td>2.662704e+00</td>\n",
       "      <td>2.671868e+00</td>\n",
       "      <td>9.532034e+00</td>\n",
       "      <td>3.713052e+00</td>\n",
       "      <td>3.645706e+00</td>\n",
       "      <td>3.764100e+00</td>\n",
       "      <td>...</td>\n",
       "      <td>1.337265e+00</td>\n",
       "      <td>3.236524e+00</td>\n",
       "      <td>1.703078e+00</td>\n",
       "      <td>1.042674e+00</td>\n",
       "      <td>1.940087e+00</td>\n",
       "      <td>2.029471e+00</td>\n",
       "      <td>2.205371e+00</td>\n",
       "      <td>2.841856e+00</td>\n",
       "      <td>2.862350e+00</td>\n",
       "      <td>1.826932e+00</td>\n",
       "    </tr>\n",
       "  </tbody>\n",
       "</table>\n",
       "<p>8 rows × 74 columns</p>\n",
       "</div>"
      ],
      "text/plain": [
       "       Patient age quantile  Patient addmited to regular ward (1=yes, 0=no)  \\\n",
       "count           5644.000000                                     5644.000000   \n",
       "mean               9.318391                                        0.013997   \n",
       "std                5.777903                                        0.117489   \n",
       "min                0.000000                                        0.000000   \n",
       "25%                4.000000                                        0.000000   \n",
       "50%                9.000000                                        0.000000   \n",
       "75%               14.000000                                        0.000000   \n",
       "max               19.000000                                        1.000000   \n",
       "\n",
       "       Patient addmited to semi-intensive unit (1=yes, 0=no)  \\\n",
       "count                                        5644.000000       \n",
       "mean                                            0.008859       \n",
       "std                                             0.093713       \n",
       "min                                             0.000000       \n",
       "25%                                             0.000000       \n",
       "50%                                             0.000000       \n",
       "75%                                             0.000000       \n",
       "max                                             1.000000       \n",
       "\n",
       "       Patient addmited to intensive care unit (1=yes, 0=no)    Hematocrit  \\\n",
       "count                                        5644.000000      6.030000e+02   \n",
       "mean                                            0.007264     -2.187396e-09   \n",
       "std                                             0.084929      1.000830e+00   \n",
       "min                                             0.000000     -4.501420e+00   \n",
       "25%                                             0.000000     -5.188074e-01   \n",
       "50%                                             0.000000      5.340703e-02   \n",
       "75%                                             0.000000      7.171751e-01   \n",
       "max                                             1.000000      2.662704e+00   \n",
       "\n",
       "         Hemoglobin     Platelets  Mean platelet volume   Red blood Cells  \\\n",
       "count  6.030000e+02  6.020000e+02           5.990000e+02     6.020000e+02   \n",
       "mean  -1.598342e-08 -3.820598e-10           7.373957e-09     8.416943e-09   \n",
       "std    1.000830e+00  1.000832e+00           1.000836e+00     1.000832e+00   \n",
       "min   -4.345603e+00 -2.552426e+00          -2.457575e+00    -3.970608e+00   \n",
       "25%   -5.862439e-01 -6.053457e-01          -6.624832e-01    -5.679496e-01   \n",
       "50%    4.031596e-02 -1.217160e-01          -1.015171e-01     1.385207e-02   \n",
       "75%    7.295320e-01  5.314981e-01           6.838353e-01     6.661759e-01   \n",
       "max    2.671868e+00  9.532034e+00           3.713052e+00     3.645706e+00   \n",
       "\n",
       "        Lymphocytes  ...  Hb saturation (arterial blood gases)  \\\n",
       "count  6.020000e+02  ...                          2.700000e+01   \n",
       "mean  -7.863787e-09  ...                         -1.851852e-10   \n",
       "std    1.000832e+00  ...                          1.019049e+00   \n",
       "min   -1.865070e+00  ...                         -1.999560e+00   \n",
       "25%   -7.307069e-01  ...                         -1.122574e+00   \n",
       "50%   -1.426696e-02  ...                          2.677689e-01   \n",
       "75%    5.976919e-01  ...                          7.383496e-01   \n",
       "max    3.764100e+00  ...                          1.337265e+00   \n",
       "\n",
       "       pCO2 (arterial blood gas analysis)  \\\n",
       "count                        2.700000e+01   \n",
       "mean                         8.370370e-09   \n",
       "std                          1.019049e+00   \n",
       "min                         -1.244817e+00   \n",
       "25%                         -5.348102e-01   \n",
       "50%                         -2.120799e-01   \n",
       "75%                          2.305214e-02   \n",
       "max                          3.236524e+00   \n",
       "\n",
       "       Base excess (arterial blood gas analysis)  \\\n",
       "count                               2.700000e+01   \n",
       "mean                               -1.703704e-09   \n",
       "std                                 1.019049e+00   \n",
       "min                                -3.082674e+00   \n",
       "25%                                -3.308668e-01   \n",
       "50%                                -1.181667e-02   \n",
       "75%                                 6.661649e-01   \n",
       "max                                 1.703078e+00   \n",
       "\n",
       "       pH (arterial blood gas analysis)  \\\n",
       "count                      2.700000e+01   \n",
       "mean                       3.333333e-10   \n",
       "std                        1.019049e+00   \n",
       "min                       -3.568877e+00   \n",
       "25%                       -9.210583e-02   \n",
       "50%                        2.942021e-01   \n",
       "75%                        5.115003e-01   \n",
       "max                        1.042674e+00   \n",
       "\n",
       "       Total CO2 (arterial blood gas analysis)  \\\n",
       "count                             2.700000e+01   \n",
       "mean                             -7.444444e-09   \n",
       "std                               1.019049e+00   \n",
       "min                              -2.925618e+00   \n",
       "25%                              -5.117720e-01   \n",
       "50%                               7.743482e-02   \n",
       "75%                               4.385609e-01   \n",
       "max                               1.940087e+00   \n",
       "\n",
       "       HCO3 (arterial blood gas analysis)  pO2 (arterial blood gas analysis)  \\\n",
       "count                        2.700000e+01                       2.700000e+01   \n",
       "mean                         6.000000e-09                      -2.481481e-08   \n",
       "std                          1.019049e+00                       1.019049e+00   \n",
       "min                         -2.985592e+00                      -1.175907e+00   \n",
       "25%                         -5.397211e-01                      -8.169898e-01   \n",
       "50%                          5.633191e-02                      -1.599549e-01   \n",
       "75%                          5.085100e-01                       4.500090e-01   \n",
       "max                          2.029471e+00                       2.205371e+00   \n",
       "\n",
       "       Arteiral Fio2      Phosphor  ctO2 (arterial blood gas analysis)  \n",
       "count   2.000000e+01  2.000000e+01                        2.700000e+01  \n",
       "mean    4.650000e-09  6.250000e-09                        5.185185e-09  \n",
       "std     1.025978e+00  1.025978e+00                        1.019049e+00  \n",
       "min    -1.532932e+00 -1.480526e+00                       -2.900254e+00  \n",
       "25%    -1.214975e-01 -5.527296e-01                       -4.852787e-01  \n",
       "50%    -1.174366e-02 -1.381825e-01                        1.826928e-01  \n",
       "75%    -1.174366e-02  2.763648e-01                        5.937525e-01  \n",
       "max     2.841856e+00  2.862350e+00                        1.826932e+00  \n",
       "\n",
       "[8 rows x 74 columns]"
      ]
     },
     "execution_count": 7,
     "metadata": {},
     "output_type": "execute_result"
    }
   ],
   "source": [
    "df.describe() # understanding the dataset "
   ]
  },
  {
   "cell_type": "code",
   "execution_count": 8,
   "metadata": {},
   "outputs": [
    {
     "data": {
      "text/plain": [
       "Patient ID                                                  0\n",
       "Patient age quantile                                        0\n",
       "SARS-Cov-2 exam result                                      0\n",
       "Patient addmited to regular ward (1=yes, 0=no)              0\n",
       "Patient addmited to semi-intensive unit (1=yes, 0=no)       0\n",
       "                                                         ... \n",
       "HCO3 (arterial blood gas analysis)                       5617\n",
       "pO2 (arterial blood gas analysis)                        5617\n",
       "Arteiral Fio2                                            5624\n",
       "Phosphor                                                 5624\n",
       "ctO2 (arterial blood gas analysis)                       5617\n",
       "Length: 111, dtype: int64"
      ]
     },
     "execution_count": 8,
     "metadata": {},
     "output_type": "execute_result"
    }
   ],
   "source": [
    "df.isnull().sum()  # finding out if their any null value in any columns."
   ]
  },
  {
   "cell_type": "code",
   "execution_count": 9,
   "metadata": {},
   "outputs": [],
   "source": [
    "df['HCO3 (arterial blood gas analysis)'].fillna(df['HCO3 (arterial blood gas analysis)'].mean(),inplace=True)"
   ]
  },
  {
   "cell_type": "code",
   "execution_count": 10,
   "metadata": {},
   "outputs": [],
   "source": [
    "df['pO2 (arterial blood gas analysis)'].fillna(df['pO2 (arterial blood gas analysis)'].mean(),inplace=True)"
   ]
  },
  {
   "cell_type": "code",
   "execution_count": 11,
   "metadata": {},
   "outputs": [],
   "source": [
    "df['Arteiral Fio2'].fillna(df['Arteiral Fio2'].mean(),inplace=True)"
   ]
  },
  {
   "cell_type": "code",
   "execution_count": 12,
   "metadata": {},
   "outputs": [],
   "source": [
    "df['Phosphor'].fillna(df['Phosphor'].mean(),inplace=True)"
   ]
  },
  {
   "cell_type": "code",
   "execution_count": 13,
   "metadata": {},
   "outputs": [],
   "source": [
    "df['ctO2 (arterial blood gas analysis)'].fillna(df['ctO2 (arterial blood gas analysis)'].mean(),inplace=True)"
   ]
  },
  {
   "cell_type": "code",
   "execution_count": 14,
   "metadata": {},
   "outputs": [
    {
     "data": {
      "text/html": [
       "<div>\n",
       "<style scoped>\n",
       "    .dataframe tbody tr th:only-of-type {\n",
       "        vertical-align: middle;\n",
       "    }\n",
       "\n",
       "    .dataframe tbody tr th {\n",
       "        vertical-align: top;\n",
       "    }\n",
       "\n",
       "    .dataframe thead th {\n",
       "        text-align: right;\n",
       "    }\n",
       "</style>\n",
       "<table border=\"1\" class=\"dataframe\">\n",
       "  <thead>\n",
       "    <tr style=\"text-align: right;\">\n",
       "      <th></th>\n",
       "      <th>Patient age quantile</th>\n",
       "      <th>Patient addmited to regular ward (1=yes, 0=no)</th>\n",
       "      <th>Patient addmited to semi-intensive unit (1=yes, 0=no)</th>\n",
       "      <th>Patient addmited to intensive care unit (1=yes, 0=no)</th>\n",
       "      <th>Hematocrit</th>\n",
       "      <th>Hemoglobin</th>\n",
       "      <th>Platelets</th>\n",
       "      <th>Mean platelet volume</th>\n",
       "      <th>Red blood Cells</th>\n",
       "      <th>Lymphocytes</th>\n",
       "      <th>...</th>\n",
       "      <th>Hb saturation (arterial blood gases)</th>\n",
       "      <th>pCO2 (arterial blood gas analysis)</th>\n",
       "      <th>Base excess (arterial blood gas analysis)</th>\n",
       "      <th>pH (arterial blood gas analysis)</th>\n",
       "      <th>Total CO2 (arterial blood gas analysis)</th>\n",
       "      <th>HCO3 (arterial blood gas analysis)</th>\n",
       "      <th>pO2 (arterial blood gas analysis)</th>\n",
       "      <th>Arteiral Fio2</th>\n",
       "      <th>Phosphor</th>\n",
       "      <th>ctO2 (arterial blood gas analysis)</th>\n",
       "    </tr>\n",
       "  </thead>\n",
       "  <tbody>\n",
       "    <tr>\n",
       "      <th>Patient age quantile</th>\n",
       "      <td>1.000000</td>\n",
       "      <td>4.616576e-02</td>\n",
       "      <td>0.015736</td>\n",
       "      <td>-0.035772</td>\n",
       "      <td>0.096808</td>\n",
       "      <td>0.060320</td>\n",
       "      <td>-0.158683</td>\n",
       "      <td>0.119449</td>\n",
       "      <td>-0.037510</td>\n",
       "      <td>-0.125935</td>\n",
       "      <td>...</td>\n",
       "      <td>-0.223949</td>\n",
       "      <td>-0.469049</td>\n",
       "      <td>0.570445</td>\n",
       "      <td>0.570755</td>\n",
       "      <td>0.086133</td>\n",
       "      <td>0.012090</td>\n",
       "      <td>-0.007157</td>\n",
       "      <td>-0.021239</td>\n",
       "      <td>-4.135060e-02</td>\n",
       "      <td>-0.004455</td>\n",
       "    </tr>\n",
       "    <tr>\n",
       "      <th>Patient addmited to regular ward (1=yes, 0=no)</th>\n",
       "      <td>0.046166</td>\n",
       "      <td>1.000000e+00</td>\n",
       "      <td>-0.011264</td>\n",
       "      <td>-0.010192</td>\n",
       "      <td>-0.087241</td>\n",
       "      <td>-0.091867</td>\n",
       "      <td>-0.183091</td>\n",
       "      <td>-0.013134</td>\n",
       "      <td>-0.053143</td>\n",
       "      <td>-0.095313</td>\n",
       "      <td>...</td>\n",
       "      <td>0.198186</td>\n",
       "      <td>-0.226778</td>\n",
       "      <td>0.033456</td>\n",
       "      <td>0.203640</td>\n",
       "      <td>-0.159803</td>\n",
       "      <td>-0.034427</td>\n",
       "      <td>0.027247</td>\n",
       "      <td>-0.040326</td>\n",
       "      <td>-2.249795e-17</td>\n",
       "      <td>0.070462</td>\n",
       "    </tr>\n",
       "    <tr>\n",
       "      <th>Patient addmited to semi-intensive unit (1=yes, 0=no)</th>\n",
       "      <td>0.015736</td>\n",
       "      <td>-1.126431e-02</td>\n",
       "      <td>1.000000</td>\n",
       "      <td>-0.008087</td>\n",
       "      <td>-0.182215</td>\n",
       "      <td>-0.177142</td>\n",
       "      <td>0.006966</td>\n",
       "      <td>-0.023475</td>\n",
       "      <td>-0.137951</td>\n",
       "      <td>-0.110574</td>\n",
       "      <td>...</td>\n",
       "      <td>-0.559117</td>\n",
       "      <td>0.113153</td>\n",
       "      <td>-0.226234</td>\n",
       "      <td>-0.178971</td>\n",
       "      <td>-0.112624</td>\n",
       "      <td>-0.048656</td>\n",
       "      <td>-0.120723</td>\n",
       "      <td>-0.025106</td>\n",
       "      <td>5.392442e-02</td>\n",
       "      <td>-0.017481</td>\n",
       "    </tr>\n",
       "    <tr>\n",
       "      <th>Patient addmited to intensive care unit (1=yes, 0=no)</th>\n",
       "      <td>-0.035772</td>\n",
       "      <td>-1.019207e-02</td>\n",
       "      <td>-0.008087</td>\n",
       "      <td>1.000000</td>\n",
       "      <td>-0.183850</td>\n",
       "      <td>-0.178878</td>\n",
       "      <td>0.125953</td>\n",
       "      <td>-0.073511</td>\n",
       "      <td>-0.120659</td>\n",
       "      <td>-0.109867</td>\n",
       "      <td>...</td>\n",
       "      <td>0.351994</td>\n",
       "      <td>0.298040</td>\n",
       "      <td>0.203506</td>\n",
       "      <td>-0.179731</td>\n",
       "      <td>0.424729</td>\n",
       "      <td>0.130018</td>\n",
       "      <td>0.049237</td>\n",
       "      <td>0.105651</td>\n",
       "      <td>3.943718e-02</td>\n",
       "      <td>-0.121242</td>\n",
       "    </tr>\n",
       "    <tr>\n",
       "      <th>Hematocrit</th>\n",
       "      <td>0.096808</td>\n",
       "      <td>-8.724139e-02</td>\n",
       "      <td>-0.182215</td>\n",
       "      <td>-0.183850</td>\n",
       "      <td>1.000000</td>\n",
       "      <td>0.968447</td>\n",
       "      <td>-0.082296</td>\n",
       "      <td>0.083580</td>\n",
       "      <td>0.872987</td>\n",
       "      <td>0.002035</td>\n",
       "      <td>...</td>\n",
       "      <td>-0.046283</td>\n",
       "      <td>-0.180164</td>\n",
       "      <td>-0.195979</td>\n",
       "      <td>0.063842</td>\n",
       "      <td>-0.343724</td>\n",
       "      <td>-0.067014</td>\n",
       "      <td>0.024449</td>\n",
       "      <td>0.012284</td>\n",
       "      <td>3.685211e-02</td>\n",
       "      <td>0.172949</td>\n",
       "    </tr>\n",
       "    <tr>\n",
       "      <th>...</th>\n",
       "      <td>...</td>\n",
       "      <td>...</td>\n",
       "      <td>...</td>\n",
       "      <td>...</td>\n",
       "      <td>...</td>\n",
       "      <td>...</td>\n",
       "      <td>...</td>\n",
       "      <td>...</td>\n",
       "      <td>...</td>\n",
       "      <td>...</td>\n",
       "      <td>...</td>\n",
       "      <td>...</td>\n",
       "      <td>...</td>\n",
       "      <td>...</td>\n",
       "      <td>...</td>\n",
       "      <td>...</td>\n",
       "      <td>...</td>\n",
       "      <td>...</td>\n",
       "      <td>...</td>\n",
       "      <td>...</td>\n",
       "      <td>...</td>\n",
       "    </tr>\n",
       "    <tr>\n",
       "      <th>HCO3 (arterial blood gas analysis)</th>\n",
       "      <td>0.012090</td>\n",
       "      <td>-3.442683e-02</td>\n",
       "      <td>-0.048656</td>\n",
       "      <td>0.130018</td>\n",
       "      <td>-0.067014</td>\n",
       "      <td>-0.087151</td>\n",
       "      <td>0.025061</td>\n",
       "      <td>0.055542</td>\n",
       "      <td>-0.051618</td>\n",
       "      <td>0.002146</td>\n",
       "      <td>...</td>\n",
       "      <td>-0.348558</td>\n",
       "      <td>0.513884</td>\n",
       "      <td>0.644222</td>\n",
       "      <td>-0.209320</td>\n",
       "      <td>0.992877</td>\n",
       "      <td>1.000000</td>\n",
       "      <td>-0.302613</td>\n",
       "      <td>0.082657</td>\n",
       "      <td>-1.375525e-01</td>\n",
       "      <td>-0.434762</td>\n",
       "    </tr>\n",
       "    <tr>\n",
       "      <th>pO2 (arterial blood gas analysis)</th>\n",
       "      <td>-0.007157</td>\n",
       "      <td>2.724735e-02</td>\n",
       "      <td>-0.120723</td>\n",
       "      <td>0.049237</td>\n",
       "      <td>0.024449</td>\n",
       "      <td>0.016877</td>\n",
       "      <td>-0.025850</td>\n",
       "      <td>-0.047159</td>\n",
       "      <td>0.038621</td>\n",
       "      <td>0.009730</td>\n",
       "      <td>...</td>\n",
       "      <td>0.796438</td>\n",
       "      <td>-0.296518</td>\n",
       "      <td>-0.093285</td>\n",
       "      <td>0.200313</td>\n",
       "      <td>-0.314796</td>\n",
       "      <td>-0.302613</td>\n",
       "      <td>1.000000</td>\n",
       "      <td>-0.181270</td>\n",
       "      <td>-1.016304e-01</td>\n",
       "      <td>0.270951</td>\n",
       "    </tr>\n",
       "    <tr>\n",
       "      <th>Arteiral Fio2</th>\n",
       "      <td>-0.021239</td>\n",
       "      <td>-4.032553e-02</td>\n",
       "      <td>-0.025106</td>\n",
       "      <td>0.105651</td>\n",
       "      <td>0.012284</td>\n",
       "      <td>-0.000655</td>\n",
       "      <td>0.081845</td>\n",
       "      <td>0.013618</td>\n",
       "      <td>-0.045810</td>\n",
       "      <td>0.033720</td>\n",
       "      <td>...</td>\n",
       "      <td>-0.017055</td>\n",
       "      <td>0.381415</td>\n",
       "      <td>-0.227696</td>\n",
       "      <td>-0.376063</td>\n",
       "      <td>0.134155</td>\n",
       "      <td>0.082657</td>\n",
       "      <td>-0.181270</td>\n",
       "      <td>1.000000</td>\n",
       "      <td>1.259335e-01</td>\n",
       "      <td>-0.196606</td>\n",
       "    </tr>\n",
       "    <tr>\n",
       "      <th>Phosphor</th>\n",
       "      <td>-0.041351</td>\n",
       "      <td>-2.249795e-17</td>\n",
       "      <td>0.053924</td>\n",
       "      <td>0.039437</td>\n",
       "      <td>0.036852</td>\n",
       "      <td>0.057834</td>\n",
       "      <td>0.049969</td>\n",
       "      <td>-0.041703</td>\n",
       "      <td>0.035438</td>\n",
       "      <td>0.025836</td>\n",
       "      <td>...</td>\n",
       "      <td>-0.269818</td>\n",
       "      <td>0.509162</td>\n",
       "      <td>-0.679843</td>\n",
       "      <td>-0.639315</td>\n",
       "      <td>-0.106679</td>\n",
       "      <td>-0.137552</td>\n",
       "      <td>-0.101630</td>\n",
       "      <td>0.125933</td>\n",
       "      <td>1.000000e+00</td>\n",
       "      <td>0.219942</td>\n",
       "    </tr>\n",
       "    <tr>\n",
       "      <th>ctO2 (arterial blood gas analysis)</th>\n",
       "      <td>-0.004455</td>\n",
       "      <td>7.046189e-02</td>\n",
       "      <td>-0.017481</td>\n",
       "      <td>-0.121242</td>\n",
       "      <td>0.172949</td>\n",
       "      <td>0.183184</td>\n",
       "      <td>-0.090435</td>\n",
       "      <td>0.003778</td>\n",
       "      <td>0.163657</td>\n",
       "      <td>-0.022823</td>\n",
       "      <td>...</td>\n",
       "      <td>0.127582</td>\n",
       "      <td>-0.260971</td>\n",
       "      <td>-0.256192</td>\n",
       "      <td>0.091033</td>\n",
       "      <td>-0.442118</td>\n",
       "      <td>-0.434762</td>\n",
       "      <td>0.270951</td>\n",
       "      <td>-0.196606</td>\n",
       "      <td>2.199416e-01</td>\n",
       "      <td>1.000000</td>\n",
       "    </tr>\n",
       "  </tbody>\n",
       "</table>\n",
       "<p>74 rows × 74 columns</p>\n",
       "</div>"
      ],
      "text/plain": [
       "                                                    Patient age quantile  \\\n",
       "Patient age quantile                                            1.000000   \n",
       "Patient addmited to regular ward (1=yes, 0=no)                  0.046166   \n",
       "Patient addmited to semi-intensive unit (1=yes,...              0.015736   \n",
       "Patient addmited to intensive care unit (1=yes,...             -0.035772   \n",
       "Hematocrit                                                      0.096808   \n",
       "...                                                                  ...   \n",
       "HCO3 (arterial blood gas analysis)                              0.012090   \n",
       "pO2 (arterial blood gas analysis)                              -0.007157   \n",
       "Arteiral Fio2                                                  -0.021239   \n",
       "Phosphor                                                       -0.041351   \n",
       "ctO2 (arterial blood gas analysis)                             -0.004455   \n",
       "\n",
       "                                                    Patient addmited to regular ward (1=yes, 0=no)  \\\n",
       "Patient age quantile                                                                  4.616576e-02   \n",
       "Patient addmited to regular ward (1=yes, 0=no)                                        1.000000e+00   \n",
       "Patient addmited to semi-intensive unit (1=yes,...                                   -1.126431e-02   \n",
       "Patient addmited to intensive care unit (1=yes,...                                   -1.019207e-02   \n",
       "Hematocrit                                                                           -8.724139e-02   \n",
       "...                                                                                            ...   \n",
       "HCO3 (arterial blood gas analysis)                                                   -3.442683e-02   \n",
       "pO2 (arterial blood gas analysis)                                                     2.724735e-02   \n",
       "Arteiral Fio2                                                                        -4.032553e-02   \n",
       "Phosphor                                                                             -2.249795e-17   \n",
       "ctO2 (arterial blood gas analysis)                                                    7.046189e-02   \n",
       "\n",
       "                                                    Patient addmited to semi-intensive unit (1=yes, 0=no)  \\\n",
       "Patient age quantile                                                                         0.015736       \n",
       "Patient addmited to regular ward (1=yes, 0=no)                                              -0.011264       \n",
       "Patient addmited to semi-intensive unit (1=yes,...                                           1.000000       \n",
       "Patient addmited to intensive care unit (1=yes,...                                          -0.008087       \n",
       "Hematocrit                                                                                  -0.182215       \n",
       "...                                                                                               ...       \n",
       "HCO3 (arterial blood gas analysis)                                                          -0.048656       \n",
       "pO2 (arterial blood gas analysis)                                                           -0.120723       \n",
       "Arteiral Fio2                                                                               -0.025106       \n",
       "Phosphor                                                                                     0.053924       \n",
       "ctO2 (arterial blood gas analysis)                                                          -0.017481       \n",
       "\n",
       "                                                    Patient addmited to intensive care unit (1=yes, 0=no)  \\\n",
       "Patient age quantile                                                                        -0.035772       \n",
       "Patient addmited to regular ward (1=yes, 0=no)                                              -0.010192       \n",
       "Patient addmited to semi-intensive unit (1=yes,...                                          -0.008087       \n",
       "Patient addmited to intensive care unit (1=yes,...                                           1.000000       \n",
       "Hematocrit                                                                                  -0.183850       \n",
       "...                                                                                               ...       \n",
       "HCO3 (arterial blood gas analysis)                                                           0.130018       \n",
       "pO2 (arterial blood gas analysis)                                                            0.049237       \n",
       "Arteiral Fio2                                                                                0.105651       \n",
       "Phosphor                                                                                     0.039437       \n",
       "ctO2 (arterial blood gas analysis)                                                          -0.121242       \n",
       "\n",
       "                                                    Hematocrit  Hemoglobin  \\\n",
       "Patient age quantile                                  0.096808    0.060320   \n",
       "Patient addmited to regular ward (1=yes, 0=no)       -0.087241   -0.091867   \n",
       "Patient addmited to semi-intensive unit (1=yes,...   -0.182215   -0.177142   \n",
       "Patient addmited to intensive care unit (1=yes,...   -0.183850   -0.178878   \n",
       "Hematocrit                                            1.000000    0.968447   \n",
       "...                                                        ...         ...   \n",
       "HCO3 (arterial blood gas analysis)                   -0.067014   -0.087151   \n",
       "pO2 (arterial blood gas analysis)                     0.024449    0.016877   \n",
       "Arteiral Fio2                                         0.012284   -0.000655   \n",
       "Phosphor                                              0.036852    0.057834   \n",
       "ctO2 (arterial blood gas analysis)                    0.172949    0.183184   \n",
       "\n",
       "                                                    Platelets  \\\n",
       "Patient age quantile                                -0.158683   \n",
       "Patient addmited to regular ward (1=yes, 0=no)      -0.183091   \n",
       "Patient addmited to semi-intensive unit (1=yes,...   0.006966   \n",
       "Patient addmited to intensive care unit (1=yes,...   0.125953   \n",
       "Hematocrit                                          -0.082296   \n",
       "...                                                       ...   \n",
       "HCO3 (arterial blood gas analysis)                   0.025061   \n",
       "pO2 (arterial blood gas analysis)                   -0.025850   \n",
       "Arteiral Fio2                                        0.081845   \n",
       "Phosphor                                             0.049969   \n",
       "ctO2 (arterial blood gas analysis)                  -0.090435   \n",
       "\n",
       "                                                    Mean platelet volume   \\\n",
       "Patient age quantile                                             0.119449   \n",
       "Patient addmited to regular ward (1=yes, 0=no)                  -0.013134   \n",
       "Patient addmited to semi-intensive unit (1=yes,...              -0.023475   \n",
       "Patient addmited to intensive care unit (1=yes,...              -0.073511   \n",
       "Hematocrit                                                       0.083580   \n",
       "...                                                                   ...   \n",
       "HCO3 (arterial blood gas analysis)                               0.055542   \n",
       "pO2 (arterial blood gas analysis)                               -0.047159   \n",
       "Arteiral Fio2                                                    0.013618   \n",
       "Phosphor                                                        -0.041703   \n",
       "ctO2 (arterial blood gas analysis)                               0.003778   \n",
       "\n",
       "                                                    Red blood Cells  \\\n",
       "Patient age quantile                                      -0.037510   \n",
       "Patient addmited to regular ward (1=yes, 0=no)            -0.053143   \n",
       "Patient addmited to semi-intensive unit (1=yes,...        -0.137951   \n",
       "Patient addmited to intensive care unit (1=yes,...        -0.120659   \n",
       "Hematocrit                                                 0.872987   \n",
       "...                                                             ...   \n",
       "HCO3 (arterial blood gas analysis)                        -0.051618   \n",
       "pO2 (arterial blood gas analysis)                          0.038621   \n",
       "Arteiral Fio2                                             -0.045810   \n",
       "Phosphor                                                   0.035438   \n",
       "ctO2 (arterial blood gas analysis)                         0.163657   \n",
       "\n",
       "                                                    Lymphocytes  ...  \\\n",
       "Patient age quantile                                  -0.125935  ...   \n",
       "Patient addmited to regular ward (1=yes, 0=no)        -0.095313  ...   \n",
       "Patient addmited to semi-intensive unit (1=yes,...    -0.110574  ...   \n",
       "Patient addmited to intensive care unit (1=yes,...    -0.109867  ...   \n",
       "Hematocrit                                             0.002035  ...   \n",
       "...                                                         ...  ...   \n",
       "HCO3 (arterial blood gas analysis)                     0.002146  ...   \n",
       "pO2 (arterial blood gas analysis)                      0.009730  ...   \n",
       "Arteiral Fio2                                          0.033720  ...   \n",
       "Phosphor                                               0.025836  ...   \n",
       "ctO2 (arterial blood gas analysis)                    -0.022823  ...   \n",
       "\n",
       "                                                    Hb saturation (arterial blood gases)  \\\n",
       "Patient age quantile                                                           -0.223949   \n",
       "Patient addmited to regular ward (1=yes, 0=no)                                  0.198186   \n",
       "Patient addmited to semi-intensive unit (1=yes,...                             -0.559117   \n",
       "Patient addmited to intensive care unit (1=yes,...                              0.351994   \n",
       "Hematocrit                                                                     -0.046283   \n",
       "...                                                                                  ...   \n",
       "HCO3 (arterial blood gas analysis)                                             -0.348558   \n",
       "pO2 (arterial blood gas analysis)                                               0.796438   \n",
       "Arteiral Fio2                                                                  -0.017055   \n",
       "Phosphor                                                                       -0.269818   \n",
       "ctO2 (arterial blood gas analysis)                                              0.127582   \n",
       "\n",
       "                                                    pCO2 (arterial blood gas analysis)  \\\n",
       "Patient age quantile                                                         -0.469049   \n",
       "Patient addmited to regular ward (1=yes, 0=no)                               -0.226778   \n",
       "Patient addmited to semi-intensive unit (1=yes,...                            0.113153   \n",
       "Patient addmited to intensive care unit (1=yes,...                            0.298040   \n",
       "Hematocrit                                                                   -0.180164   \n",
       "...                                                                                ...   \n",
       "HCO3 (arterial blood gas analysis)                                            0.513884   \n",
       "pO2 (arterial blood gas analysis)                                            -0.296518   \n",
       "Arteiral Fio2                                                                 0.381415   \n",
       "Phosphor                                                                      0.509162   \n",
       "ctO2 (arterial blood gas analysis)                                           -0.260971   \n",
       "\n",
       "                                                    Base excess (arterial blood gas analysis)  \\\n",
       "Patient age quantile                                                                 0.570445   \n",
       "Patient addmited to regular ward (1=yes, 0=no)                                       0.033456   \n",
       "Patient addmited to semi-intensive unit (1=yes,...                                  -0.226234   \n",
       "Patient addmited to intensive care unit (1=yes,...                                   0.203506   \n",
       "Hematocrit                                                                          -0.195979   \n",
       "...                                                                                       ...   \n",
       "HCO3 (arterial blood gas analysis)                                                   0.644222   \n",
       "pO2 (arterial blood gas analysis)                                                   -0.093285   \n",
       "Arteiral Fio2                                                                       -0.227696   \n",
       "Phosphor                                                                            -0.679843   \n",
       "ctO2 (arterial blood gas analysis)                                                  -0.256192   \n",
       "\n",
       "                                                    pH (arterial blood gas analysis)  \\\n",
       "Patient age quantile                                                        0.570755   \n",
       "Patient addmited to regular ward (1=yes, 0=no)                              0.203640   \n",
       "Patient addmited to semi-intensive unit (1=yes,...                         -0.178971   \n",
       "Patient addmited to intensive care unit (1=yes,...                         -0.179731   \n",
       "Hematocrit                                                                  0.063842   \n",
       "...                                                                              ...   \n",
       "HCO3 (arterial blood gas analysis)                                         -0.209320   \n",
       "pO2 (arterial blood gas analysis)                                           0.200313   \n",
       "Arteiral Fio2                                                              -0.376063   \n",
       "Phosphor                                                                   -0.639315   \n",
       "ctO2 (arterial blood gas analysis)                                          0.091033   \n",
       "\n",
       "                                                    Total CO2 (arterial blood gas analysis)  \\\n",
       "Patient age quantile                                                               0.086133   \n",
       "Patient addmited to regular ward (1=yes, 0=no)                                    -0.159803   \n",
       "Patient addmited to semi-intensive unit (1=yes,...                                -0.112624   \n",
       "Patient addmited to intensive care unit (1=yes,...                                 0.424729   \n",
       "Hematocrit                                                                        -0.343724   \n",
       "...                                                                                     ...   \n",
       "HCO3 (arterial blood gas analysis)                                                 0.992877   \n",
       "pO2 (arterial blood gas analysis)                                                 -0.314796   \n",
       "Arteiral Fio2                                                                      0.134155   \n",
       "Phosphor                                                                          -0.106679   \n",
       "ctO2 (arterial blood gas analysis)                                                -0.442118   \n",
       "\n",
       "                                                    HCO3 (arterial blood gas analysis)  \\\n",
       "Patient age quantile                                                          0.012090   \n",
       "Patient addmited to regular ward (1=yes, 0=no)                               -0.034427   \n",
       "Patient addmited to semi-intensive unit (1=yes,...                           -0.048656   \n",
       "Patient addmited to intensive care unit (1=yes,...                            0.130018   \n",
       "Hematocrit                                                                   -0.067014   \n",
       "...                                                                                ...   \n",
       "HCO3 (arterial blood gas analysis)                                            1.000000   \n",
       "pO2 (arterial blood gas analysis)                                            -0.302613   \n",
       "Arteiral Fio2                                                                 0.082657   \n",
       "Phosphor                                                                     -0.137552   \n",
       "ctO2 (arterial blood gas analysis)                                           -0.434762   \n",
       "\n",
       "                                                    pO2 (arterial blood gas analysis)  \\\n",
       "Patient age quantile                                                        -0.007157   \n",
       "Patient addmited to regular ward (1=yes, 0=no)                               0.027247   \n",
       "Patient addmited to semi-intensive unit (1=yes,...                          -0.120723   \n",
       "Patient addmited to intensive care unit (1=yes,...                           0.049237   \n",
       "Hematocrit                                                                   0.024449   \n",
       "...                                                                               ...   \n",
       "HCO3 (arterial blood gas analysis)                                          -0.302613   \n",
       "pO2 (arterial blood gas analysis)                                            1.000000   \n",
       "Arteiral Fio2                                                               -0.181270   \n",
       "Phosphor                                                                    -0.101630   \n",
       "ctO2 (arterial blood gas analysis)                                           0.270951   \n",
       "\n",
       "                                                    Arteiral Fio2  \\\n",
       "Patient age quantile                                    -0.021239   \n",
       "Patient addmited to regular ward (1=yes, 0=no)          -0.040326   \n",
       "Patient addmited to semi-intensive unit (1=yes,...      -0.025106   \n",
       "Patient addmited to intensive care unit (1=yes,...       0.105651   \n",
       "Hematocrit                                               0.012284   \n",
       "...                                                           ...   \n",
       "HCO3 (arterial blood gas analysis)                       0.082657   \n",
       "pO2 (arterial blood gas analysis)                       -0.181270   \n",
       "Arteiral Fio2                                            1.000000   \n",
       "Phosphor                                                 0.125933   \n",
       "ctO2 (arterial blood gas analysis)                      -0.196606   \n",
       "\n",
       "                                                        Phosphor  \\\n",
       "Patient age quantile                               -4.135060e-02   \n",
       "Patient addmited to regular ward (1=yes, 0=no)     -2.249795e-17   \n",
       "Patient addmited to semi-intensive unit (1=yes,...  5.392442e-02   \n",
       "Patient addmited to intensive care unit (1=yes,...  3.943718e-02   \n",
       "Hematocrit                                          3.685211e-02   \n",
       "...                                                          ...   \n",
       "HCO3 (arterial blood gas analysis)                 -1.375525e-01   \n",
       "pO2 (arterial blood gas analysis)                  -1.016304e-01   \n",
       "Arteiral Fio2                                       1.259335e-01   \n",
       "Phosphor                                            1.000000e+00   \n",
       "ctO2 (arterial blood gas analysis)                  2.199416e-01   \n",
       "\n",
       "                                                    ctO2 (arterial blood gas analysis)  \n",
       "Patient age quantile                                                         -0.004455  \n",
       "Patient addmited to regular ward (1=yes, 0=no)                                0.070462  \n",
       "Patient addmited to semi-intensive unit (1=yes,...                           -0.017481  \n",
       "Patient addmited to intensive care unit (1=yes,...                           -0.121242  \n",
       "Hematocrit                                                                    0.172949  \n",
       "...                                                                                ...  \n",
       "HCO3 (arterial blood gas analysis)                                           -0.434762  \n",
       "pO2 (arterial blood gas analysis)                                             0.270951  \n",
       "Arteiral Fio2                                                                -0.196606  \n",
       "Phosphor                                                                      0.219942  \n",
       "ctO2 (arterial blood gas analysis)                                            1.000000  \n",
       "\n",
       "[74 rows x 74 columns]"
      ]
     },
     "execution_count": 14,
     "metadata": {},
     "output_type": "execute_result"
    }
   ],
   "source": [
    "dfcorr=df.corr()  # finding out the correlation between the variables in the dataset.\n",
    "dfcorr"
   ]
  },
  {
   "cell_type": "code",
   "execution_count": 15,
   "metadata": {},
   "outputs": [],
   "source": [
    "import seaborn as sns"
   ]
  },
  {
   "cell_type": "code",
   "execution_count": 16,
   "metadata": {},
   "outputs": [],
   "source": [
    "value_mapping={'positive':1,'negative':0}\n",
    "df['SARS-Cov-2 exam result']=df['SARS-Cov-2 exam result'].map(value_mapping)"
   ]
  },
  {
   "cell_type": "code",
   "execution_count": 17,
   "metadata": {},
   "outputs": [
    {
     "data": {
      "text/html": [
       "<div>\n",
       "<style scoped>\n",
       "    .dataframe tbody tr th:only-of-type {\n",
       "        vertical-align: middle;\n",
       "    }\n",
       "\n",
       "    .dataframe tbody tr th {\n",
       "        vertical-align: top;\n",
       "    }\n",
       "\n",
       "    .dataframe thead th {\n",
       "        text-align: right;\n",
       "    }\n",
       "</style>\n",
       "<table border=\"1\" class=\"dataframe\">\n",
       "  <thead>\n",
       "    <tr style=\"text-align: right;\">\n",
       "      <th></th>\n",
       "      <th>Patient ID</th>\n",
       "      <th>Patient age quantile</th>\n",
       "      <th>SARS-Cov-2 exam result</th>\n",
       "      <th>Patient addmited to regular ward (1=yes, 0=no)</th>\n",
       "      <th>Patient addmited to semi-intensive unit (1=yes, 0=no)</th>\n",
       "      <th>Patient addmited to intensive care unit (1=yes, 0=no)</th>\n",
       "      <th>Hematocrit</th>\n",
       "      <th>Hemoglobin</th>\n",
       "      <th>Platelets</th>\n",
       "      <th>Mean platelet volume</th>\n",
       "      <th>...</th>\n",
       "      <th>Hb saturation (arterial blood gases)</th>\n",
       "      <th>pCO2 (arterial blood gas analysis)</th>\n",
       "      <th>Base excess (arterial blood gas analysis)</th>\n",
       "      <th>pH (arterial blood gas analysis)</th>\n",
       "      <th>Total CO2 (arterial blood gas analysis)</th>\n",
       "      <th>HCO3 (arterial blood gas analysis)</th>\n",
       "      <th>pO2 (arterial blood gas analysis)</th>\n",
       "      <th>Arteiral Fio2</th>\n",
       "      <th>Phosphor</th>\n",
       "      <th>ctO2 (arterial blood gas analysis)</th>\n",
       "    </tr>\n",
       "  </thead>\n",
       "  <tbody>\n",
       "    <tr>\n",
       "      <th>0</th>\n",
       "      <td>44477f75e8169d2</td>\n",
       "      <td>13</td>\n",
       "      <td>0</td>\n",
       "      <td>0</td>\n",
       "      <td>0</td>\n",
       "      <td>0</td>\n",
       "      <td>NaN</td>\n",
       "      <td>NaN</td>\n",
       "      <td>NaN</td>\n",
       "      <td>NaN</td>\n",
       "      <td>...</td>\n",
       "      <td>NaN</td>\n",
       "      <td>NaN</td>\n",
       "      <td>NaN</td>\n",
       "      <td>NaN</td>\n",
       "      <td>NaN</td>\n",
       "      <td>6.000000e-09</td>\n",
       "      <td>-2.481481e-08</td>\n",
       "      <td>4.650000e-09</td>\n",
       "      <td>6.250000e-09</td>\n",
       "      <td>5.185185e-09</td>\n",
       "    </tr>\n",
       "    <tr>\n",
       "      <th>1</th>\n",
       "      <td>126e9dd13932f68</td>\n",
       "      <td>17</td>\n",
       "      <td>0</td>\n",
       "      <td>0</td>\n",
       "      <td>0</td>\n",
       "      <td>0</td>\n",
       "      <td>0.236515</td>\n",
       "      <td>-0.022340</td>\n",
       "      <td>-0.517413</td>\n",
       "      <td>0.010677</td>\n",
       "      <td>...</td>\n",
       "      <td>NaN</td>\n",
       "      <td>NaN</td>\n",
       "      <td>NaN</td>\n",
       "      <td>NaN</td>\n",
       "      <td>NaN</td>\n",
       "      <td>6.000000e-09</td>\n",
       "      <td>-2.481481e-08</td>\n",
       "      <td>4.650000e-09</td>\n",
       "      <td>6.250000e-09</td>\n",
       "      <td>5.185185e-09</td>\n",
       "    </tr>\n",
       "    <tr>\n",
       "      <th>2</th>\n",
       "      <td>a46b4402a0e5696</td>\n",
       "      <td>8</td>\n",
       "      <td>0</td>\n",
       "      <td>0</td>\n",
       "      <td>0</td>\n",
       "      <td>0</td>\n",
       "      <td>NaN</td>\n",
       "      <td>NaN</td>\n",
       "      <td>NaN</td>\n",
       "      <td>NaN</td>\n",
       "      <td>...</td>\n",
       "      <td>NaN</td>\n",
       "      <td>NaN</td>\n",
       "      <td>NaN</td>\n",
       "      <td>NaN</td>\n",
       "      <td>NaN</td>\n",
       "      <td>6.000000e-09</td>\n",
       "      <td>-2.481481e-08</td>\n",
       "      <td>4.650000e-09</td>\n",
       "      <td>6.250000e-09</td>\n",
       "      <td>5.185185e-09</td>\n",
       "    </tr>\n",
       "    <tr>\n",
       "      <th>3</th>\n",
       "      <td>f7d619a94f97c45</td>\n",
       "      <td>5</td>\n",
       "      <td>0</td>\n",
       "      <td>0</td>\n",
       "      <td>0</td>\n",
       "      <td>0</td>\n",
       "      <td>NaN</td>\n",
       "      <td>NaN</td>\n",
       "      <td>NaN</td>\n",
       "      <td>NaN</td>\n",
       "      <td>...</td>\n",
       "      <td>NaN</td>\n",
       "      <td>NaN</td>\n",
       "      <td>NaN</td>\n",
       "      <td>NaN</td>\n",
       "      <td>NaN</td>\n",
       "      <td>6.000000e-09</td>\n",
       "      <td>-2.481481e-08</td>\n",
       "      <td>4.650000e-09</td>\n",
       "      <td>6.250000e-09</td>\n",
       "      <td>5.185185e-09</td>\n",
       "    </tr>\n",
       "    <tr>\n",
       "      <th>4</th>\n",
       "      <td>d9e41465789c2b5</td>\n",
       "      <td>15</td>\n",
       "      <td>0</td>\n",
       "      <td>0</td>\n",
       "      <td>0</td>\n",
       "      <td>0</td>\n",
       "      <td>NaN</td>\n",
       "      <td>NaN</td>\n",
       "      <td>NaN</td>\n",
       "      <td>NaN</td>\n",
       "      <td>...</td>\n",
       "      <td>NaN</td>\n",
       "      <td>NaN</td>\n",
       "      <td>NaN</td>\n",
       "      <td>NaN</td>\n",
       "      <td>NaN</td>\n",
       "      <td>6.000000e-09</td>\n",
       "      <td>-2.481481e-08</td>\n",
       "      <td>4.650000e-09</td>\n",
       "      <td>6.250000e-09</td>\n",
       "      <td>5.185185e-09</td>\n",
       "    </tr>\n",
       "    <tr>\n",
       "      <th>5</th>\n",
       "      <td>75f16746216c4d1</td>\n",
       "      <td>9</td>\n",
       "      <td>0</td>\n",
       "      <td>0</td>\n",
       "      <td>0</td>\n",
       "      <td>0</td>\n",
       "      <td>NaN</td>\n",
       "      <td>NaN</td>\n",
       "      <td>NaN</td>\n",
       "      <td>NaN</td>\n",
       "      <td>...</td>\n",
       "      <td>NaN</td>\n",
       "      <td>NaN</td>\n",
       "      <td>NaN</td>\n",
       "      <td>NaN</td>\n",
       "      <td>NaN</td>\n",
       "      <td>6.000000e-09</td>\n",
       "      <td>-2.481481e-08</td>\n",
       "      <td>4.650000e-09</td>\n",
       "      <td>6.250000e-09</td>\n",
       "      <td>5.185185e-09</td>\n",
       "    </tr>\n",
       "    <tr>\n",
       "      <th>6</th>\n",
       "      <td>2a2245e360808d7</td>\n",
       "      <td>13</td>\n",
       "      <td>0</td>\n",
       "      <td>0</td>\n",
       "      <td>0</td>\n",
       "      <td>0</td>\n",
       "      <td>NaN</td>\n",
       "      <td>NaN</td>\n",
       "      <td>NaN</td>\n",
       "      <td>NaN</td>\n",
       "      <td>...</td>\n",
       "      <td>NaN</td>\n",
       "      <td>NaN</td>\n",
       "      <td>NaN</td>\n",
       "      <td>NaN</td>\n",
       "      <td>NaN</td>\n",
       "      <td>6.000000e-09</td>\n",
       "      <td>-2.481481e-08</td>\n",
       "      <td>4.650000e-09</td>\n",
       "      <td>6.250000e-09</td>\n",
       "      <td>5.185185e-09</td>\n",
       "    </tr>\n",
       "    <tr>\n",
       "      <th>7</th>\n",
       "      <td>509197ec73f1400</td>\n",
       "      <td>16</td>\n",
       "      <td>0</td>\n",
       "      <td>0</td>\n",
       "      <td>0</td>\n",
       "      <td>0</td>\n",
       "      <td>NaN</td>\n",
       "      <td>NaN</td>\n",
       "      <td>NaN</td>\n",
       "      <td>NaN</td>\n",
       "      <td>...</td>\n",
       "      <td>NaN</td>\n",
       "      <td>NaN</td>\n",
       "      <td>NaN</td>\n",
       "      <td>NaN</td>\n",
       "      <td>NaN</td>\n",
       "      <td>6.000000e-09</td>\n",
       "      <td>-2.481481e-08</td>\n",
       "      <td>4.650000e-09</td>\n",
       "      <td>6.250000e-09</td>\n",
       "      <td>5.185185e-09</td>\n",
       "    </tr>\n",
       "    <tr>\n",
       "      <th>8</th>\n",
       "      <td>8bb9d64f0215244</td>\n",
       "      <td>1</td>\n",
       "      <td>0</td>\n",
       "      <td>0</td>\n",
       "      <td>1</td>\n",
       "      <td>0</td>\n",
       "      <td>-1.571682</td>\n",
       "      <td>-0.774212</td>\n",
       "      <td>1.429667</td>\n",
       "      <td>-1.672222</td>\n",
       "      <td>...</td>\n",
       "      <td>NaN</td>\n",
       "      <td>NaN</td>\n",
       "      <td>NaN</td>\n",
       "      <td>NaN</td>\n",
       "      <td>NaN</td>\n",
       "      <td>6.000000e-09</td>\n",
       "      <td>-2.481481e-08</td>\n",
       "      <td>4.650000e-09</td>\n",
       "      <td>7.303929e-01</td>\n",
       "      <td>5.185185e-09</td>\n",
       "    </tr>\n",
       "    <tr>\n",
       "      <th>9</th>\n",
       "      <td>5f1ed301375586c</td>\n",
       "      <td>17</td>\n",
       "      <td>0</td>\n",
       "      <td>0</td>\n",
       "      <td>0</td>\n",
       "      <td>0</td>\n",
       "      <td>NaN</td>\n",
       "      <td>NaN</td>\n",
       "      <td>NaN</td>\n",
       "      <td>NaN</td>\n",
       "      <td>...</td>\n",
       "      <td>NaN</td>\n",
       "      <td>NaN</td>\n",
       "      <td>NaN</td>\n",
       "      <td>NaN</td>\n",
       "      <td>NaN</td>\n",
       "      <td>6.000000e-09</td>\n",
       "      <td>-2.481481e-08</td>\n",
       "      <td>4.650000e-09</td>\n",
       "      <td>6.250000e-09</td>\n",
       "      <td>5.185185e-09</td>\n",
       "    </tr>\n",
       "  </tbody>\n",
       "</table>\n",
       "<p>10 rows × 111 columns</p>\n",
       "</div>"
      ],
      "text/plain": [
       "        Patient ID  Patient age quantile  SARS-Cov-2 exam result  \\\n",
       "0  44477f75e8169d2                    13                       0   \n",
       "1  126e9dd13932f68                    17                       0   \n",
       "2  a46b4402a0e5696                     8                       0   \n",
       "3  f7d619a94f97c45                     5                       0   \n",
       "4  d9e41465789c2b5                    15                       0   \n",
       "5  75f16746216c4d1                     9                       0   \n",
       "6  2a2245e360808d7                    13                       0   \n",
       "7  509197ec73f1400                    16                       0   \n",
       "8  8bb9d64f0215244                     1                       0   \n",
       "9  5f1ed301375586c                    17                       0   \n",
       "\n",
       "   Patient addmited to regular ward (1=yes, 0=no)  \\\n",
       "0                                               0   \n",
       "1                                               0   \n",
       "2                                               0   \n",
       "3                                               0   \n",
       "4                                               0   \n",
       "5                                               0   \n",
       "6                                               0   \n",
       "7                                               0   \n",
       "8                                               0   \n",
       "9                                               0   \n",
       "\n",
       "   Patient addmited to semi-intensive unit (1=yes, 0=no)  \\\n",
       "0                                                  0       \n",
       "1                                                  0       \n",
       "2                                                  0       \n",
       "3                                                  0       \n",
       "4                                                  0       \n",
       "5                                                  0       \n",
       "6                                                  0       \n",
       "7                                                  0       \n",
       "8                                                  1       \n",
       "9                                                  0       \n",
       "\n",
       "   Patient addmited to intensive care unit (1=yes, 0=no)  Hematocrit  \\\n",
       "0                                                  0             NaN   \n",
       "1                                                  0        0.236515   \n",
       "2                                                  0             NaN   \n",
       "3                                                  0             NaN   \n",
       "4                                                  0             NaN   \n",
       "5                                                  0             NaN   \n",
       "6                                                  0             NaN   \n",
       "7                                                  0             NaN   \n",
       "8                                                  0       -1.571682   \n",
       "9                                                  0             NaN   \n",
       "\n",
       "   Hemoglobin  Platelets  Mean platelet volume   ...  \\\n",
       "0         NaN        NaN                    NaN  ...   \n",
       "1   -0.022340  -0.517413               0.010677  ...   \n",
       "2         NaN        NaN                    NaN  ...   \n",
       "3         NaN        NaN                    NaN  ...   \n",
       "4         NaN        NaN                    NaN  ...   \n",
       "5         NaN        NaN                    NaN  ...   \n",
       "6         NaN        NaN                    NaN  ...   \n",
       "7         NaN        NaN                    NaN  ...   \n",
       "8   -0.774212   1.429667              -1.672222  ...   \n",
       "9         NaN        NaN                    NaN  ...   \n",
       "\n",
       "   Hb saturation (arterial blood gases)  pCO2 (arterial blood gas analysis)  \\\n",
       "0                                   NaN                                 NaN   \n",
       "1                                   NaN                                 NaN   \n",
       "2                                   NaN                                 NaN   \n",
       "3                                   NaN                                 NaN   \n",
       "4                                   NaN                                 NaN   \n",
       "5                                   NaN                                 NaN   \n",
       "6                                   NaN                                 NaN   \n",
       "7                                   NaN                                 NaN   \n",
       "8                                   NaN                                 NaN   \n",
       "9                                   NaN                                 NaN   \n",
       "\n",
       "   Base excess (arterial blood gas analysis)  \\\n",
       "0                                        NaN   \n",
       "1                                        NaN   \n",
       "2                                        NaN   \n",
       "3                                        NaN   \n",
       "4                                        NaN   \n",
       "5                                        NaN   \n",
       "6                                        NaN   \n",
       "7                                        NaN   \n",
       "8                                        NaN   \n",
       "9                                        NaN   \n",
       "\n",
       "   pH (arterial blood gas analysis)  Total CO2 (arterial blood gas analysis)  \\\n",
       "0                               NaN                                      NaN   \n",
       "1                               NaN                                      NaN   \n",
       "2                               NaN                                      NaN   \n",
       "3                               NaN                                      NaN   \n",
       "4                               NaN                                      NaN   \n",
       "5                               NaN                                      NaN   \n",
       "6                               NaN                                      NaN   \n",
       "7                               NaN                                      NaN   \n",
       "8                               NaN                                      NaN   \n",
       "9                               NaN                                      NaN   \n",
       "\n",
       "   HCO3 (arterial blood gas analysis)  pO2 (arterial blood gas analysis)  \\\n",
       "0                        6.000000e-09                      -2.481481e-08   \n",
       "1                        6.000000e-09                      -2.481481e-08   \n",
       "2                        6.000000e-09                      -2.481481e-08   \n",
       "3                        6.000000e-09                      -2.481481e-08   \n",
       "4                        6.000000e-09                      -2.481481e-08   \n",
       "5                        6.000000e-09                      -2.481481e-08   \n",
       "6                        6.000000e-09                      -2.481481e-08   \n",
       "7                        6.000000e-09                      -2.481481e-08   \n",
       "8                        6.000000e-09                      -2.481481e-08   \n",
       "9                        6.000000e-09                      -2.481481e-08   \n",
       "\n",
       "   Arteiral Fio2      Phosphor  ctO2 (arterial blood gas analysis)  \n",
       "0   4.650000e-09  6.250000e-09                        5.185185e-09  \n",
       "1   4.650000e-09  6.250000e-09                        5.185185e-09  \n",
       "2   4.650000e-09  6.250000e-09                        5.185185e-09  \n",
       "3   4.650000e-09  6.250000e-09                        5.185185e-09  \n",
       "4   4.650000e-09  6.250000e-09                        5.185185e-09  \n",
       "5   4.650000e-09  6.250000e-09                        5.185185e-09  \n",
       "6   4.650000e-09  6.250000e-09                        5.185185e-09  \n",
       "7   4.650000e-09  6.250000e-09                        5.185185e-09  \n",
       "8   4.650000e-09  7.303929e-01                        5.185185e-09  \n",
       "9   4.650000e-09  6.250000e-09                        5.185185e-09  \n",
       "\n",
       "[10 rows x 111 columns]"
      ]
     },
     "execution_count": 17,
     "metadata": {},
     "output_type": "execute_result"
    }
   ],
   "source": [
    "df.head(10)"
   ]
  },
  {
   "cell_type": "code",
   "execution_count": 18,
   "metadata": {},
   "outputs": [],
   "source": [
    "df.drop('Patient ID',axis=1,inplace=True)"
   ]
  },
  {
   "cell_type": "code",
   "execution_count": 19,
   "metadata": {},
   "outputs": [],
   "source": [
    "df.drop('Hemoglobin',axis=1,inplace=True)"
   ]
  },
  {
   "cell_type": "code",
   "execution_count": 20,
   "metadata": {},
   "outputs": [],
   "source": [
    "df.drop('Hematocrit',axis=1,inplace=True)"
   ]
  },
  {
   "cell_type": "code",
   "execution_count": 21,
   "metadata": {},
   "outputs": [],
   "source": [
    "df.drop('Platelets',axis=1,inplace=True)"
   ]
  },
  {
   "cell_type": "code",
   "execution_count": 22,
   "metadata": {},
   "outputs": [
    {
     "data": {
      "text/html": [
       "<div>\n",
       "<style scoped>\n",
       "    .dataframe tbody tr th:only-of-type {\n",
       "        vertical-align: middle;\n",
       "    }\n",
       "\n",
       "    .dataframe tbody tr th {\n",
       "        vertical-align: top;\n",
       "    }\n",
       "\n",
       "    .dataframe thead th {\n",
       "        text-align: right;\n",
       "    }\n",
       "</style>\n",
       "<table border=\"1\" class=\"dataframe\">\n",
       "  <thead>\n",
       "    <tr style=\"text-align: right;\">\n",
       "      <th></th>\n",
       "      <th>Patient age quantile</th>\n",
       "      <th>SARS-Cov-2 exam result</th>\n",
       "      <th>Patient addmited to regular ward (1=yes, 0=no)</th>\n",
       "      <th>Patient addmited to semi-intensive unit (1=yes, 0=no)</th>\n",
       "      <th>Patient addmited to intensive care unit (1=yes, 0=no)</th>\n",
       "      <th>Mean platelet volume</th>\n",
       "      <th>Red blood Cells</th>\n",
       "      <th>Lymphocytes</th>\n",
       "      <th>Mean corpuscular hemoglobin concentration (MCHC)</th>\n",
       "      <th>Leukocytes</th>\n",
       "      <th>...</th>\n",
       "      <th>Hb saturation (arterial blood gases)</th>\n",
       "      <th>pCO2 (arterial blood gas analysis)</th>\n",
       "      <th>Base excess (arterial blood gas analysis)</th>\n",
       "      <th>pH (arterial blood gas analysis)</th>\n",
       "      <th>Total CO2 (arterial blood gas analysis)</th>\n",
       "      <th>HCO3 (arterial blood gas analysis)</th>\n",
       "      <th>pO2 (arterial blood gas analysis)</th>\n",
       "      <th>Arteiral Fio2</th>\n",
       "      <th>Phosphor</th>\n",
       "      <th>ctO2 (arterial blood gas analysis)</th>\n",
       "    </tr>\n",
       "  </thead>\n",
       "  <tbody>\n",
       "    <tr>\n",
       "      <th>0</th>\n",
       "      <td>13</td>\n",
       "      <td>0</td>\n",
       "      <td>0</td>\n",
       "      <td>0</td>\n",
       "      <td>0</td>\n",
       "      <td>NaN</td>\n",
       "      <td>NaN</td>\n",
       "      <td>NaN</td>\n",
       "      <td>NaN</td>\n",
       "      <td>NaN</td>\n",
       "      <td>...</td>\n",
       "      <td>NaN</td>\n",
       "      <td>NaN</td>\n",
       "      <td>NaN</td>\n",
       "      <td>NaN</td>\n",
       "      <td>NaN</td>\n",
       "      <td>6.000000e-09</td>\n",
       "      <td>-2.481481e-08</td>\n",
       "      <td>4.650000e-09</td>\n",
       "      <td>6.250000e-09</td>\n",
       "      <td>5.185185e-09</td>\n",
       "    </tr>\n",
       "    <tr>\n",
       "      <th>1</th>\n",
       "      <td>17</td>\n",
       "      <td>0</td>\n",
       "      <td>0</td>\n",
       "      <td>0</td>\n",
       "      <td>0</td>\n",
       "      <td>0.010677</td>\n",
       "      <td>0.102004</td>\n",
       "      <td>0.318366</td>\n",
       "      <td>-0.95079</td>\n",
       "      <td>-0.09461</td>\n",
       "      <td>...</td>\n",
       "      <td>NaN</td>\n",
       "      <td>NaN</td>\n",
       "      <td>NaN</td>\n",
       "      <td>NaN</td>\n",
       "      <td>NaN</td>\n",
       "      <td>6.000000e-09</td>\n",
       "      <td>-2.481481e-08</td>\n",
       "      <td>4.650000e-09</td>\n",
       "      <td>6.250000e-09</td>\n",
       "      <td>5.185185e-09</td>\n",
       "    </tr>\n",
       "    <tr>\n",
       "      <th>2</th>\n",
       "      <td>8</td>\n",
       "      <td>0</td>\n",
       "      <td>0</td>\n",
       "      <td>0</td>\n",
       "      <td>0</td>\n",
       "      <td>NaN</td>\n",
       "      <td>NaN</td>\n",
       "      <td>NaN</td>\n",
       "      <td>NaN</td>\n",
       "      <td>NaN</td>\n",
       "      <td>...</td>\n",
       "      <td>NaN</td>\n",
       "      <td>NaN</td>\n",
       "      <td>NaN</td>\n",
       "      <td>NaN</td>\n",
       "      <td>NaN</td>\n",
       "      <td>6.000000e-09</td>\n",
       "      <td>-2.481481e-08</td>\n",
       "      <td>4.650000e-09</td>\n",
       "      <td>6.250000e-09</td>\n",
       "      <td>5.185185e-09</td>\n",
       "    </tr>\n",
       "    <tr>\n",
       "      <th>3</th>\n",
       "      <td>5</td>\n",
       "      <td>0</td>\n",
       "      <td>0</td>\n",
       "      <td>0</td>\n",
       "      <td>0</td>\n",
       "      <td>NaN</td>\n",
       "      <td>NaN</td>\n",
       "      <td>NaN</td>\n",
       "      <td>NaN</td>\n",
       "      <td>NaN</td>\n",
       "      <td>...</td>\n",
       "      <td>NaN</td>\n",
       "      <td>NaN</td>\n",
       "      <td>NaN</td>\n",
       "      <td>NaN</td>\n",
       "      <td>NaN</td>\n",
       "      <td>6.000000e-09</td>\n",
       "      <td>-2.481481e-08</td>\n",
       "      <td>4.650000e-09</td>\n",
       "      <td>6.250000e-09</td>\n",
       "      <td>5.185185e-09</td>\n",
       "    </tr>\n",
       "    <tr>\n",
       "      <th>4</th>\n",
       "      <td>15</td>\n",
       "      <td>0</td>\n",
       "      <td>0</td>\n",
       "      <td>0</td>\n",
       "      <td>0</td>\n",
       "      <td>NaN</td>\n",
       "      <td>NaN</td>\n",
       "      <td>NaN</td>\n",
       "      <td>NaN</td>\n",
       "      <td>NaN</td>\n",
       "      <td>...</td>\n",
       "      <td>NaN</td>\n",
       "      <td>NaN</td>\n",
       "      <td>NaN</td>\n",
       "      <td>NaN</td>\n",
       "      <td>NaN</td>\n",
       "      <td>6.000000e-09</td>\n",
       "      <td>-2.481481e-08</td>\n",
       "      <td>4.650000e-09</td>\n",
       "      <td>6.250000e-09</td>\n",
       "      <td>5.185185e-09</td>\n",
       "    </tr>\n",
       "  </tbody>\n",
       "</table>\n",
       "<p>5 rows × 107 columns</p>\n",
       "</div>"
      ],
      "text/plain": [
       "   Patient age quantile  SARS-Cov-2 exam result  \\\n",
       "0                    13                       0   \n",
       "1                    17                       0   \n",
       "2                     8                       0   \n",
       "3                     5                       0   \n",
       "4                    15                       0   \n",
       "\n",
       "   Patient addmited to regular ward (1=yes, 0=no)  \\\n",
       "0                                               0   \n",
       "1                                               0   \n",
       "2                                               0   \n",
       "3                                               0   \n",
       "4                                               0   \n",
       "\n",
       "   Patient addmited to semi-intensive unit (1=yes, 0=no)  \\\n",
       "0                                                  0       \n",
       "1                                                  0       \n",
       "2                                                  0       \n",
       "3                                                  0       \n",
       "4                                                  0       \n",
       "\n",
       "   Patient addmited to intensive care unit (1=yes, 0=no)  \\\n",
       "0                                                  0       \n",
       "1                                                  0       \n",
       "2                                                  0       \n",
       "3                                                  0       \n",
       "4                                                  0       \n",
       "\n",
       "   Mean platelet volume   Red blood Cells  Lymphocytes  \\\n",
       "0                    NaN              NaN          NaN   \n",
       "1               0.010677         0.102004     0.318366   \n",
       "2                    NaN              NaN          NaN   \n",
       "3                    NaN              NaN          NaN   \n",
       "4                    NaN              NaN          NaN   \n",
       "\n",
       "   Mean corpuscular hemoglobin concentration (MCHC)  Leukocytes  ...  \\\n",
       "0                                               NaN         NaN  ...   \n",
       "1                                          -0.95079    -0.09461  ...   \n",
       "2                                               NaN         NaN  ...   \n",
       "3                                               NaN         NaN  ...   \n",
       "4                                               NaN         NaN  ...   \n",
       "\n",
       "   Hb saturation (arterial blood gases)  pCO2 (arterial blood gas analysis)  \\\n",
       "0                                   NaN                                 NaN   \n",
       "1                                   NaN                                 NaN   \n",
       "2                                   NaN                                 NaN   \n",
       "3                                   NaN                                 NaN   \n",
       "4                                   NaN                                 NaN   \n",
       "\n",
       "   Base excess (arterial blood gas analysis)  \\\n",
       "0                                        NaN   \n",
       "1                                        NaN   \n",
       "2                                        NaN   \n",
       "3                                        NaN   \n",
       "4                                        NaN   \n",
       "\n",
       "   pH (arterial blood gas analysis)  Total CO2 (arterial blood gas analysis)  \\\n",
       "0                               NaN                                      NaN   \n",
       "1                               NaN                                      NaN   \n",
       "2                               NaN                                      NaN   \n",
       "3                               NaN                                      NaN   \n",
       "4                               NaN                                      NaN   \n",
       "\n",
       "   HCO3 (arterial blood gas analysis)  pO2 (arterial blood gas analysis)  \\\n",
       "0                        6.000000e-09                      -2.481481e-08   \n",
       "1                        6.000000e-09                      -2.481481e-08   \n",
       "2                        6.000000e-09                      -2.481481e-08   \n",
       "3                        6.000000e-09                      -2.481481e-08   \n",
       "4                        6.000000e-09                      -2.481481e-08   \n",
       "\n",
       "  Arteiral Fio2      Phosphor ctO2 (arterial blood gas analysis)  \n",
       "0  4.650000e-09  6.250000e-09                       5.185185e-09  \n",
       "1  4.650000e-09  6.250000e-09                       5.185185e-09  \n",
       "2  4.650000e-09  6.250000e-09                       5.185185e-09  \n",
       "3  4.650000e-09  6.250000e-09                       5.185185e-09  \n",
       "4  4.650000e-09  6.250000e-09                       5.185185e-09  \n",
       "\n",
       "[5 rows x 107 columns]"
      ]
     },
     "execution_count": 22,
     "metadata": {},
     "output_type": "execute_result"
    }
   ],
   "source": [
    "df.head()"
   ]
  },
  {
   "cell_type": "code",
   "execution_count": 23,
   "metadata": {},
   "outputs": [
    {
     "data": {
      "image/png": "[encoded data removed]",
      "text/plain": [
       "<Figure size 432x288 with 1 Axes>"
      ]
     },
     "metadata": {
      "needs_background": "light"
     },
     "output_type": "display_data"
    }
   ],
   "source": [
    "sns.countplot(df['SARS-Cov-2 exam result'])\n",
    "death_percent=round((df['SARS-Cov-2 exam result'].value_counts().values[0]/5644*100))"
   ]
  },
  {
   "cell_type": "code",
   "execution_count": 24,
   "metadata": {},
   "outputs": [
    {
     "name": "stdout",
     "output_type": "stream",
     "text": [
      "0    98.600283\n",
      "1     1.399717\n",
      "Name: Patient addmited to regular ward (1=yes, 0=no), dtype: float64\n"
     ]
    }
   ],
   "source": [
    "print(df['Patient addmited to regular ward (1=yes, 0=no)'].value_counts()/5644*100)"
   ]
  },
  {
   "cell_type": "code",
   "execution_count": 25,
   "metadata": {},
   "outputs": [
    {
     "data": {
      "text/plain": [
       "<matplotlib.axes._subplots.AxesSubplot at 0x2db48841188>"
      ]
     },
     "execution_count": 25,
     "metadata": {},
     "output_type": "execute_result"
    },
    {
     "data": {
      "image/png": "[encoded data removed]",
      "text/plain": [
       "<Figure size 432x288 with 1 Axes>"
      ]
     },
     "metadata": {
      "needs_background": "light"
     },
     "output_type": "display_data"
    }
   ],
   "source": [
    "sns.countplot(df['Patient addmited to regular ward (1=yes, 0=no)'])"
   ]
  },
  {
   "cell_type": "code",
   "execution_count": 26,
   "metadata": {},
   "outputs": [
    {
     "name": "stdout",
     "output_type": "stream",
     "text": [
      "0    99.114103\n",
      "1     0.885897\n",
      "Name: Patient addmited to semi-intensive unit (1=yes, 0=no), dtype: float64\n"
     ]
    }
   ],
   "source": [
    "print(df['Patient addmited to semi-intensive unit (1=yes, 0=no)'].value_counts()/5644*100)"
   ]
  },
  {
   "cell_type": "code",
   "execution_count": 27,
   "metadata": {},
   "outputs": [
    {
     "data": {
      "text/plain": [
       "<matplotlib.axes._subplots.AxesSubplot at 0x2db488ad848>"
      ]
     },
     "execution_count": 27,
     "metadata": {},
     "output_type": "execute_result"
    },
    {
     "data": {
      "image/png": "[encoded data removed]",
      "text/plain": [
       "<Figure size 432x288 with 1 Axes>"
      ]
     },
     "metadata": {
      "needs_background": "light"
     },
     "output_type": "display_data"
    }
   ],
   "source": [
    "sns.countplot(df['Patient addmited to semi-intensive unit (1=yes, 0=no)'])"
   ]
  },
  {
   "cell_type": "code",
   "execution_count": 28,
   "metadata": {},
   "outputs": [
    {
     "name": "stdout",
     "output_type": "stream",
     "text": [
      "0    99.273565\n",
      "1     0.726435\n",
      "Name: Patient addmited to intensive care unit (1=yes, 0=no), dtype: float64\n"
     ]
    }
   ],
   "source": [
    "print(df['Patient addmited to intensive care unit (1=yes, 0=no)'].value_counts()/5644*100)"
   ]
  },
  {
   "cell_type": "code",
   "execution_count": 29,
   "metadata": {},
   "outputs": [
    {
     "data": {
      "text/plain": [
       "<matplotlib.axes._subplots.AxesSubplot at 0x2db48928908>"
      ]
     },
     "execution_count": 29,
     "metadata": {},
     "output_type": "execute_result"
    },
    {
     "data": {
      "image/png": "[encoded data removed]",
      "text/plain": [
       "<Figure size 432x288 with 1 Axes>"
      ]
     },
     "metadata": {
      "needs_background": "light"
     },
     "output_type": "display_data"
    }
   ],
   "source": [
    "sns.countplot(df['Patient addmited to intensive care unit (1=yes, 0=no)'])"
   ]
  },
  {
   "cell_type": "code",
   "execution_count": 30,
   "metadata": {},
   "outputs": [
    {
     "name": "stdout",
     "output_type": "stream",
     "text": [
      "0    90.113395\n",
      "1     9.886605\n",
      "Name: SARS-Cov-2 exam result, dtype: float64\n"
     ]
    },
    {
     "data": {
      "text/plain": [
       "<matplotlib.axes._subplots.AxesSubplot at 0x2db4897e448>"
      ]
     },
     "execution_count": 30,
     "metadata": {},
     "output_type": "execute_result"
    },
    {
     "data": {
      "image/png": "[encoded data removed]",
      "text/plain": [
       "<Figure size 432x288 with 1 Axes>"
      ]
     },
     "metadata": {
      "needs_background": "light"
     },
     "output_type": "display_data"
    }
   ],
   "source": [
    "print(df['SARS-Cov-2 exam result'].value_counts()/5644*100)\n",
    "sns.countplot(df['SARS-Cov-2 exam result'])"
   ]
  },
  {
   "cell_type": "code",
   "execution_count": 31,
   "metadata": {},
   "outputs": [
    {
     "data": {
      "text/plain": [
       "<seaborn.axisgrid.FacetGrid at 0x2db489c4608>"
      ]
     },
     "execution_count": 31,
     "metadata": {},
     "output_type": "execute_result"
    },
    {
     "data": {
      "image/png": "[encoded data removed]",
      "text/plain": [
       "<Figure size 497.125x360 with 1 Axes>"
      ]
     },
     "metadata": {
      "needs_background": "light"
     },
     "output_type": "display_data"
    }
   ],
   "source": [
    "sns.relplot(x='SARS-Cov-2 exam result',y=\"Patient addmited to regular ward (1=yes, 0=no)\",hue='Patient age quantile',data=df)"
   ]
  },
  {
   "cell_type": "code",
   "execution_count": 32,
   "metadata": {},
   "outputs": [
    {
     "data": {
      "text/plain": [
       "<seaborn.axisgrid.FacetGrid at 0x2db48a2bc08>"
      ]
     },
     "execution_count": 32,
     "metadata": {},
     "output_type": "execute_result"
    },
    {
     "data": {
      "image/png": "[encoded data removed]",
      "text/plain": [
       "<Figure size 497.125x360 with 1 Axes>"
      ]
     },
     "metadata": {
      "needs_background": "light"
     },
     "output_type": "display_data"
    }
   ],
   "source": [
    "sns.relplot(x='SARS-Cov-2 exam result',y=\"Patient addmited to semi-intensive unit (1=yes, 0=no)\",hue='Patient age quantile',data=df)"
   ]
  },
  {
   "cell_type": "code",
   "execution_count": 33,
   "metadata": {},
   "outputs": [
    {
     "data": {
      "text/plain": [
       "<seaborn.axisgrid.FacetGrid at 0x2db48a91fc8>"
      ]
     },
     "execution_count": 33,
     "metadata": {},
     "output_type": "execute_result"
    },
    {
     "data": {
      "image/png": "[encoded data removed]",
      "text/plain": [
       "<Figure size 497.125x360 with 1 Axes>"
      ]
     },
     "metadata": {
      "needs_background": "light"
     },
     "output_type": "display_data"
    }
   ],
   "source": [
    "sns.relplot(x='SARS-Cov-2 exam result',y=\"Patient addmited to intensive care unit (1=yes, 0=no)\",hue='Patient age quantile',data=df)"
   ]
  },
  {
   "cell_type": "code",
   "execution_count": 34,
   "metadata": {},
   "outputs": [
    {
     "data": {
      "image/png": "[encoded data removed]",
      "text/plain": [
       "<Figure size 432x288 with 1 Axes>"
      ]
     },
     "metadata": {
      "needs_background": "light"
     },
     "output_type": "display_data"
    }
   ],
   "source": [
    "sns.barplot(x=df['Patient age quantile'],y=df[\"SARS-Cov-2 exam result\"],data=df)\n",
    "plt.show()"
   ]
  },
  {
   "cell_type": "code",
   "execution_count": 35,
   "metadata": {},
   "outputs": [
    {
     "name": "stdout",
     "output_type": "stream",
     "text": [
      "0    98.600283\n",
      "1     1.399717\n",
      "Name: Patient addmited to regular ward (1=yes, 0=no), dtype: float64\n"
     ]
    },
    {
     "data": {
      "text/plain": [
       "<matplotlib.axes._subplots.AxesSubplot at 0x2db48b71288>"
      ]
     },
     "execution_count": 35,
     "metadata": {},
     "output_type": "execute_result"
    },
    {
     "data": {
      "image/png": "[encoded data removed]",
      "text/plain": [
       "<Figure size 432x288 with 1 Axes>"
      ]
     },
     "metadata": {
      "needs_background": "light"
     },
     "output_type": "display_data"
    }
   ],
   "source": [
    "print(df['Patient addmited to regular ward (1=yes, 0=no)'].value_counts()/5644*100)\n",
    "sns.countplot(df['Patient addmited to regular ward (1=yes, 0=no)'])"
   ]
  },
  {
   "cell_type": "code",
   "execution_count": 36,
   "metadata": {},
   "outputs": [
    {
     "name": "stdout",
     "output_type": "stream",
     "text": [
      "11    6.732814\n",
      "4     6.484763\n",
      "9     6.360737\n",
      "0     5.917789\n",
      "7     5.652020\n",
      "2     5.581148\n",
      "13    5.545712\n",
      "14    5.297661\n",
      "5     5.209072\n",
      "6     4.978738\n",
      "16    4.943303\n",
      "19    4.872431\n",
      "15    4.766123\n",
      "17    4.659816\n",
      "18    4.588944\n",
      "3     4.447201\n",
      "1     4.145996\n",
      "12    3.490432\n",
      "10    3.366407\n",
      "8     2.958894\n",
      "Name: Patient age quantile, dtype: float64\n"
     ]
    },
    {
     "data": {
      "text/plain": [
       "<matplotlib.axes._subplots.AxesSubplot at 0x2db48bd8348>"
      ]
     },
     "execution_count": 36,
     "metadata": {},
     "output_type": "execute_result"
    },
    {
     "data": {
      "image/png": "[encoded data removed]",
      "text/plain": [
       "<Figure size 432x288 with 1 Axes>"
      ]
     },
     "metadata": {
      "needs_background": "light"
     },
     "output_type": "display_data"
    }
   ],
   "source": [
    "print(df['Patient age quantile'].value_counts()/5644*100)\n",
    "sns.countplot(df['Patient age quantile'])"
   ]
  },
  {
   "cell_type": "code",
   "execution_count": 37,
   "metadata": {},
   "outputs": [
    {
     "name": "stdout",
     "output_type": "stream",
     "text": [
      "0    99.114103\n",
      "1     0.885897\n",
      "Name: Patient addmited to semi-intensive unit (1=yes, 0=no), dtype: float64\n"
     ]
    },
    {
     "data": {
      "text/plain": [
       "<matplotlib.axes._subplots.AxesSubplot at 0x2db48c84b88>"
      ]
     },
     "execution_count": 37,
     "metadata": {},
     "output_type": "execute_result"
    },
    {
     "data": {
      "image/png": "[encoded data removed]",
      "text/plain": [
       "<Figure size 432x288 with 1 Axes>"
      ]
     },
     "metadata": {
      "needs_background": "light"
     },
     "output_type": "display_data"
    }
   ],
   "source": [
    "print(df['Patient addmited to semi-intensive unit (1=yes, 0=no)'].value_counts()/5644*100)\n",
    "sns.countplot(df['Patient addmited to semi-intensive unit (1=yes, 0=no)'])"
   ]
  },
  {
   "cell_type": "code",
   "execution_count": 38,
   "metadata": {},
   "outputs": [
    {
     "name": "stdout",
     "output_type": "stream",
     "text": [
      "0    99.273565\n",
      "1     0.726435\n",
      "Name: Patient addmited to intensive care unit (1=yes, 0=no), dtype: float64\n"
     ]
    },
    {
     "data": {
      "text/plain": [
       "<matplotlib.axes._subplots.AxesSubplot at 0x2db48cd7288>"
      ]
     },
     "execution_count": 38,
     "metadata": {},
     "output_type": "execute_result"
    },
    {
     "data": {
      "image/png": "[encoded data removed]",
      "text/plain": [
       "<Figure size 432x288 with 1 Axes>"
      ]
     },
     "metadata": {
      "needs_background": "light"
     },
     "output_type": "display_data"
    }
   ],
   "source": [
    "print(df['Patient addmited to intensive care unit (1=yes, 0=no)'].value_counts()/5644*100)\n",
    "sns.countplot(df['Patient addmited to intensive care unit (1=yes, 0=no)'])"
   ]
  },
  {
   "cell_type": "code",
   "execution_count": 39,
   "metadata": {},
   "outputs": [
    {
     "data": {
      "text/plain": [
       "<matplotlib.axes._subplots.AxesSubplot at 0x2db48b6cbc8>"
      ]
     },
     "execution_count": 39,
     "metadata": {},
     "output_type": "execute_result"
    },
    {
     "data": {
      "image/png": "[encoded data removed]",
      "text/plain": [
       "<Figure size 432x288 with 1 Axes>"
      ]
     },
     "metadata": {
      "needs_background": "light"
     },
     "output_type": "display_data"
    }
   ],
   "source": [
    "sns.distplot(df['Patient age quantile'],bins=10)"
   ]
  },
  {
   "cell_type": "code",
   "execution_count": 43,
   "metadata": {},
   "outputs": [
    {
     "data": {
      "text/plain": [
       "<matplotlib.axes._subplots.AxesSubplot at 0x2db4a4fec08>"
      ]
     },
     "execution_count": 43,
     "metadata": {},
     "output_type": "execute_result"
    },
    {
     "data": {
      "image/png": "[encoded data removed]",
      "text/plain": [
       "<Figure size 1440x864 with 2 Axes>"
      ]
     },
     "metadata": {
      "needs_background": "light"
     },
     "output_type": "display_data"
    }
   ],
   "source": [
    "plt.figure(figsize=(20,12))\n",
    "sns.heatmap(df.corr(),cmap='summer')"
   ]
  },
  {
   "cell_type": "code",
   "execution_count": 44,
   "metadata": {},
   "outputs": [],
   "source": [
    "from sklearn.model_selection import train_test_split"
   ]
  },
  {
   "cell_type": "code",
   "execution_count": 55,
   "metadata": {},
   "outputs": [],
   "source": [
    "x=df[['Patient age quantile','Patient addmited to regular ward (1=yes, 0=no)','Patient addmited to semi-intensive unit (1=yes, 0=no)','Patient addmited to intensive care unit (1=yes, 0=no)']].values"
   ]
  },
  {
   "cell_type": "code",
   "execution_count": 56,
   "metadata": {},
   "outputs": [],
   "source": [
    "y=df['SARS-Cov-2 exam result'].values"
   ]
  },
  {
   "cell_type": "code",
   "execution_count": 57,
   "metadata": {},
   "outputs": [],
   "source": [
    "x_train,x_test,y_train,y_test=train_test_split(x,y,test_size=0.20,random_state=42)"
   ]
  },
  {
   "cell_type": "code",
   "execution_count": 62,
   "metadata": {},
   "outputs": [],
   "source": [
    "from sklearn.linear_model import LogisticRegression"
   ]
  },
  {
   "cell_type": "code",
   "execution_count": 63,
   "metadata": {},
   "outputs": [],
   "source": [
    "lr= LogisticRegression()"
   ]
  },
  {
   "cell_type": "code",
   "execution_count": 64,
   "metadata": {},
   "outputs": [
    {
     "data": {
      "text/plain": [
       "LogisticRegression(C=1.0, class_weight=None, dual=False, fit_intercept=True,\n",
       "                   intercept_scaling=1, l1_ratio=None, max_iter=100,\n",
       "                   multi_class='auto', n_jobs=None, penalty='l2',\n",
       "                   random_state=None, solver='lbfgs', tol=0.0001, verbose=0,\n",
       "                   warm_start=False)"
      ]
     },
     "execution_count": 64,
     "metadata": {},
     "output_type": "execute_result"
    }
   ],
   "source": [
    "lr.fit(x_train,y_train)"
   ]
  },
  {
   "cell_type": "code",
   "execution_count": 65,
   "metadata": {},
   "outputs": [
    {
     "data": {
      "text/plain": [
       "0.9043401240035429"
      ]
     },
     "execution_count": 65,
     "metadata": {},
     "output_type": "execute_result"
    }
   ],
   "source": [
    "lr.score(x_test,y_test)"
   ]
  },
  {
   "cell_type": "code",
   "execution_count": 66,
   "metadata": {},
   "outputs": [],
   "source": [
    "from sklearn.svm import SVC"
   ]
  },
  {
   "cell_type": "code",
   "execution_count": 67,
   "metadata": {},
   "outputs": [],
   "source": [
    "model=SVC()"
   ]
  },
  {
   "cell_type": "code",
   "execution_count": 68,
   "metadata": {},
   "outputs": [
    {
     "data": {
      "text/plain": [
       "SVC(C=1.0, break_ties=False, cache_size=200, class_weight=None, coef0=0.0,\n",
       "    decision_function_shape='ovr', degree=3, gamma='scale', kernel='rbf',\n",
       "    max_iter=-1, probability=False, random_state=None, shrinking=True,\n",
       "    tol=0.001, verbose=False)"
      ]
     },
     "execution_count": 68,
     "metadata": {},
     "output_type": "execute_result"
    }
   ],
   "source": [
    "model.fit(x_train,y_train)"
   ]
  },
  {
   "cell_type": "code",
   "execution_count": 69,
   "metadata": {},
   "outputs": [
    {
     "data": {
      "text/plain": [
       "0.9003322259136213"
      ]
     },
     "execution_count": 69,
     "metadata": {},
     "output_type": "execute_result"
    }
   ],
   "source": [
    "model.score(x_train,y_train)"
   ]
  },
  {
   "cell_type": "code",
   "execution_count": 70,
   "metadata": {},
   "outputs": [
    {
     "data": {
      "text/plain": [
       "0.9043401240035429"
      ]
     },
     "execution_count": 70,
     "metadata": {},
     "output_type": "execute_result"
    }
   ],
   "source": [
    "model.score(x_test,y_test)"
   ]
  },
  {
   "cell_type": "code",
   "execution_count": 71,
   "metadata": {},
   "outputs": [],
   "source": [
    "from sklearn.ensemble import RandomForestClassifier"
   ]
  },
  {
   "cell_type": "code",
   "execution_count": 72,
   "metadata": {},
   "outputs": [],
   "source": [
    "model=RandomForestClassifier()"
   ]
  },
  {
   "cell_type": "code",
   "execution_count": 73,
   "metadata": {},
   "outputs": [
    {
     "data": {
      "text/plain": [
       "RandomForestClassifier(bootstrap=True, ccp_alpha=0.0, class_weight=None,\n",
       "                       criterion='gini', max_depth=None, max_features='auto',\n",
       "                       max_leaf_nodes=None, max_samples=None,\n",
       "                       min_impurity_decrease=0.0, min_impurity_split=None,\n",
       "                       min_samples_leaf=1, min_samples_split=2,\n",
       "                       min_weight_fraction_leaf=0.0, n_estimators=100,\n",
       "                       n_jobs=None, oob_score=False, random_state=None,\n",
       "                       verbose=0, warm_start=False)"
      ]
     },
     "execution_count": 73,
     "metadata": {},
     "output_type": "execute_result"
    }
   ],
   "source": [
    "model.fit(x_train,y_train)"
   ]
  },
  {
   "cell_type": "code",
   "execution_count": 74,
   "metadata": {},
   "outputs": [
    {
     "data": {
      "text/plain": [
       "0.9025686448184234"
      ]
     },
     "execution_count": 74,
     "metadata": {},
     "output_type": "execute_result"
    }
   ],
   "source": [
    "model.score(x_test,y_test)"
   ]
  },
  {
   "cell_type": "code",
   "execution_count": 75,
   "metadata": {},
   "outputs": [],
   "source": [
    "from sklearn.tree import DecisionTreeClassifier\n"
   ]
  },
  {
   "cell_type": "code",
   "execution_count": 76,
   "metadata": {},
   "outputs": [],
   "source": [
    "dr=DecisionTreeClassifier()"
   ]
  },
  {
   "cell_type": "code",
   "execution_count": 77,
   "metadata": {},
   "outputs": [
    {
     "data": {
      "text/plain": [
       "DecisionTreeClassifier(ccp_alpha=0.0, class_weight=None, criterion='gini',\n",
       "                       max_depth=None, max_features=None, max_leaf_nodes=None,\n",
       "                       min_impurity_decrease=0.0, min_impurity_split=None,\n",
       "                       min_samples_leaf=1, min_samples_split=2,\n",
       "                       min_weight_fraction_leaf=0.0, presort='deprecated',\n",
       "                       random_state=None, splitter='best')"
      ]
     },
     "execution_count": 77,
     "metadata": {},
     "output_type": "execute_result"
    }
   ],
   "source": [
    "dr.fit(x_train,y_train)"
   ]
  },
  {
   "cell_type": "code",
   "execution_count": 78,
   "metadata": {},
   "outputs": [
    {
     "data": {
      "text/plain": [
       "0.9025686448184234"
      ]
     },
     "execution_count": 78,
     "metadata": {},
     "output_type": "execute_result"
    }
   ],
   "source": [
    "dr.score(x_test,y_test)"
   ]
  },
  {
   "cell_type": "code",
   "execution_count": 79,
   "metadata": {},
   "outputs": [],
   "source": [
    "predict=dr.predict(x_test)"
   ]
  },
  {
   "cell_type": "code",
   "execution_count": 80,
   "metadata": {},
   "outputs": [
    {
     "data": {
      "text/plain": [
       "array([0, 0, 0, ..., 0, 0, 0], dtype=int64)"
      ]
     },
     "execution_count": 80,
     "metadata": {},
     "output_type": "execute_result"
    }
   ],
   "source": [
    "predict"
   ]
  },
  {
   "cell_type": "code",
   "execution_count": 81,
   "metadata": {},
   "outputs": [],
   "source": [
    "from sklearn.metrics import confusion_matrix"
   ]
  },
  {
   "cell_type": "code",
   "execution_count": 82,
   "metadata": {},
   "outputs": [],
   "source": [
    "cm=confusion_matrix(y_test,dr.predict(x_test))"
   ]
  },
  {
   "cell_type": "code",
   "execution_count": 83,
   "metadata": {},
   "outputs": [
    {
     "name": "stdout",
     "output_type": "stream",
     "text": [
      "[[1016    5]\n",
      " [ 105    3]]\n"
     ]
    }
   ],
   "source": [
    "print(cm)"
   ]
  },
  {
   "cell_type": "code",
   "execution_count": 95,
   "metadata": {},
   "outputs": [],
   "source": [
    "from sklearn.metrics import classification_report"
   ]
  },
  {
   "cell_type": "code",
   "execution_count": 97,
   "metadata": {},
   "outputs": [
    {
     "name": "stdout",
     "output_type": "stream",
     "text": [
      "              precision    recall  f1-score   support\n",
      "\n",
      "           0       0.91      1.00      0.95      1021\n",
      "           1       0.38      0.03      0.05       108\n",
      "\n",
      "    accuracy                           0.90      1129\n",
      "   macro avg       0.64      0.51      0.50      1129\n",
      "weighted avg       0.86      0.90      0.86      1129\n",
      "\n"
     ]
    }
   ],
   "source": [
    "print(classification_report(y_test, predict))"
   ]
  },
  {
   "cell_type": "code",
   "execution_count": 84,
   "metadata": {},
   "outputs": [],
   "source": [
    "from sklearn.ensemble import AdaBoostClassifier\n",
    "from sklearn.ensemble import GradientBoostingClassifier\n",
    "from sklearn.ensemble import ExtraTreesClassifier"
   ]
  },
  {
   "cell_type": "code",
   "execution_count": 85,
   "metadata": {},
   "outputs": [],
   "source": [
    "gb = GradientBoostingClassifier()"
   ]
  },
  {
   "cell_type": "code",
   "execution_count": 87,
   "metadata": {},
   "outputs": [
    {
     "data": {
      "text/plain": [
       "GradientBoostingClassifier(ccp_alpha=0.0, criterion='friedman_mse', init=None,\n",
       "                           learning_rate=0.1, loss='deviance', max_depth=3,\n",
       "                           max_features=None, max_leaf_nodes=None,\n",
       "                           min_impurity_decrease=0.0, min_impurity_split=None,\n",
       "                           min_samples_leaf=1, min_samples_split=2,\n",
       "                           min_weight_fraction_leaf=0.0, n_estimators=100,\n",
       "                           n_iter_no_change=None, presort='deprecated',\n",
       "                           random_state=None, subsample=1.0, tol=0.0001,\n",
       "                           validation_fraction=0.1, verbose=0,\n",
       "                           warm_start=False)"
      ]
     },
     "execution_count": 87,
     "metadata": {},
     "output_type": "execute_result"
    }
   ],
   "source": [
    "gb.fit(x_train,y_train)"
   ]
  },
  {
   "cell_type": "code",
   "execution_count": 88,
   "metadata": {},
   "outputs": [
    {
     "data": {
      "text/plain": [
       "0.9025686448184234"
      ]
     },
     "execution_count": 88,
     "metadata": {},
     "output_type": "execute_result"
    }
   ],
   "source": [
    "gb.score(x_test,y_test)"
   ]
  },
  {
   "cell_type": "code",
   "execution_count": 89,
   "metadata": {},
   "outputs": [],
   "source": [
    "ad=AdaBoostClassifier()"
   ]
  },
  {
   "cell_type": "code",
   "execution_count": 90,
   "metadata": {},
   "outputs": [
    {
     "data": {
      "text/plain": [
       "AdaBoostClassifier(algorithm='SAMME.R', base_estimator=None, learning_rate=1.0,\n",
       "                   n_estimators=50, random_state=None)"
      ]
     },
     "execution_count": 90,
     "metadata": {},
     "output_type": "execute_result"
    }
   ],
   "source": [
    "ad.fit(x_train,y_train)"
   ]
  },
  {
   "cell_type": "code",
   "execution_count": 91,
   "metadata": {},
   "outputs": [
    {
     "data": {
      "text/plain": [
       "0.9043401240035429"
      ]
     },
     "execution_count": 91,
     "metadata": {},
     "output_type": "execute_result"
    }
   ],
   "source": [
    "ad.score(x_test,y_test)"
   ]
  },
  {
   "cell_type": "code",
   "execution_count": 92,
   "metadata": {},
   "outputs": [],
   "source": [
    "ET=ExtraTreesClassifier()"
   ]
  },
  {
   "cell_type": "code",
   "execution_count": 93,
   "metadata": {},
   "outputs": [
    {
     "data": {
      "text/plain": [
       "ExtraTreesClassifier(bootstrap=False, ccp_alpha=0.0, class_weight=None,\n",
       "                     criterion='gini', max_depth=None, max_features='auto',\n",
       "                     max_leaf_nodes=None, max_samples=None,\n",
       "                     min_impurity_decrease=0.0, min_impurity_split=None,\n",
       "                     min_samples_leaf=1, min_samples_split=2,\n",
       "                     min_weight_fraction_leaf=0.0, n_estimators=100,\n",
       "                     n_jobs=None, oob_score=False, random_state=None, verbose=0,\n",
       "                     warm_start=False)"
      ]
     },
     "execution_count": 93,
     "metadata": {},
     "output_type": "execute_result"
    }
   ],
   "source": [
    "ET.fit(x_train,y_train)"
   ]
  },
  {
   "cell_type": "code",
   "execution_count": 94,
   "metadata": {},
   "outputs": [
    {
     "data": {
      "text/plain": [
       "0.9034543844109831"
      ]
     },
     "execution_count": 94,
     "metadata": {},
     "output_type": "execute_result"
    }
   ],
   "source": [
    "ET.score(x_test,y_test)"
   ]
  },
  {
   "cell_type": "code",
   "execution_count": 98,
   "metadata": {},
   "outputs": [],
   "source": [
    "from sklearn import preprocessing, neighbors"
   ]
  },
  {
   "cell_type": "code",
   "execution_count": 99,
   "metadata": {},
   "outputs": [],
   "source": [
    "clf = neighbors.KNeighborsClassifier()"
   ]
  },
  {
   "cell_type": "code",
   "execution_count": 100,
   "metadata": {},
   "outputs": [
    {
     "data": {
      "text/plain": [
       "KNeighborsClassifier(algorithm='auto', leaf_size=30, metric='minkowski',\n",
       "                     metric_params=None, n_jobs=None, n_neighbors=5, p=2,\n",
       "                     weights='uniform')"
      ]
     },
     "execution_count": 100,
     "metadata": {},
     "output_type": "execute_result"
    }
   ],
   "source": [
    "clf.fit(x_train,y_train)"
   ]
  },
  {
   "cell_type": "code",
   "execution_count": 101,
   "metadata": {},
   "outputs": [
    {
     "data": {
      "text/plain": [
       "0.9034543844109831"
      ]
     },
     "execution_count": 101,
     "metadata": {},
     "output_type": "execute_result"
    }
   ],
   "source": [
    "clf.score(x_test,y_test)"
   ]
  },
  {
   "cell_type": "code",
   "execution_count": 102,
   "metadata": {},
   "outputs": [
    {
     "name": "stderr",
     "output_type": "stream",
     "text": [
      "C:\\Users\\sodainmind\\anaconda3\\lib\\site-packages\\sklearn\\externals\\joblib\\__init__.py:15: FutureWarning: sklearn.externals.joblib is deprecated in 0.21 and will be removed in 0.23. Please import this functionality directly from joblib, which can be installed with: pip install joblib. If this warning is raised when loading pickled models, you may need to re-serialize those models with scikit-learn 0.21+.\n",
      "  warnings.warn(msg, category=FutureWarning)\n"
     ]
    }
   ],
   "source": [
    "from sklearn.externals import joblib"
   ]
  },
  {
   "cell_type": "code",
   "execution_count": 103,
   "metadata": {},
   "outputs": [
    {
     "data": {
      "text/plain": [
       "['brazil_covid19.csv']"
      ]
     },
     "execution_count": 103,
     "metadata": {},
     "output_type": "execute_result"
    }
   ],
   "source": [
    "joblib.dump(SVC,'brazil_covid19.csv')"
   ]
  },
  {
   "cell_type": "code",
   "execution_count": 104,
   "metadata": {},
   "outputs": [],
   "source": [
    "model=joblib.load('brazil_covid19.csv')"
   ]
  },
  {
   "cell_type": "code",
   "execution_count": 105,
   "metadata": {},
   "outputs": [
    {
     "data": {
      "text/plain": [
       "sklearn.svm._classes.SVC"
      ]
     },
     "execution_count": 105,
     "metadata": {},
     "output_type": "execute_result"
    }
   ],
   "source": [
    "model"
   ]
  },
  {
   "cell_type": "markdown",
   "metadata": {},
   "source": [
    "Conclusion: We have used several techniques for this dataset to find out SARS-Cov-2 exam result for covid19 virus and go to know that LogisticRegression/SVC/AdaBoostClassifier are the best suitable model for predicting the outcome of the dataset.\n",
    "    "
   ]
  }
 ],
 "metadata": {
  "kernelspec": {
   "display_name": "Python 3",
   "language": "python",
   "name": "python3"
  },
  "language_info": {
   "codemirror_mode": {
    "name": "ipython",
    "version": 3
   },
   "file_extension": ".py",
   "mimetype": "text/x-python",
   "name": "python",
   "nbconvert_exporter": "python",
   "pygments_lexer": "ipython3",
   "version": "3.7.6"
  }
 },
 "nbformat": 4,
 "nbformat_minor": 4
}
